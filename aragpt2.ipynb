{
  "cells": [
    {
      "cell_type": "code",
      "source": [
        "import nltk\n",
        "from nltk.tokenize import sent_tokenize\n",
        "from sklearn.feature_extraction.text import CountVectorizer\n",
        "from sklearn.feature_extraction.text import TfidfTransformer\n",
        "from sklearn.metrics.pairwise import cosine_similarity\n",
        "import pandas as pd"
      ],
      "metadata": {
        "id": "RdoVzMyO4BOc"
      },
      "execution_count": 1,
      "outputs": []
    },
    {
      "cell_type": "code",
      "source": [
        "pip install transformers"
      ],
      "metadata": {
        "colab": {
          "base_uri": "https://localhost:8080/"
        },
        "id": "reBM9lOLDnNq",
        "outputId": "4b0a2e89-3241-420c-d539-ba4199f9e35c"
      },
      "execution_count": 3,
      "outputs": [
        {
          "output_type": "stream",
          "name": "stdout",
          "text": [
            "Collecting transformers\n",
            "  Downloading transformers-4.30.2-py3-none-any.whl (7.2 MB)\n",
            "\u001b[2K     \u001b[90m━━━━━━━━━━━━━━━━━━━━━━━━━━━━━━━━━━━━━━━━\u001b[0m \u001b[32m7.2/7.2 MB\u001b[0m \u001b[31m31.9 MB/s\u001b[0m eta \u001b[36m0:00:00\u001b[0m\n",
            "\u001b[?25hRequirement already satisfied: filelock in /usr/local/lib/python3.10/dist-packages (from transformers) (3.12.2)\n",
            "Collecting huggingface-hub<1.0,>=0.14.1 (from transformers)\n",
            "  Downloading huggingface_hub-0.15.1-py3-none-any.whl (236 kB)\n",
            "\u001b[2K     \u001b[90m━━━━━━━━━━━━━━━━━━━━━━━━━━━━━━━━━━━━━━\u001b[0m \u001b[32m236.8/236.8 kB\u001b[0m \u001b[31m18.2 MB/s\u001b[0m eta \u001b[36m0:00:00\u001b[0m\n",
            "\u001b[?25hRequirement already satisfied: numpy>=1.17 in /usr/local/lib/python3.10/dist-packages (from transformers) (1.25.0)\n",
            "Requirement already satisfied: packaging>=20.0 in /usr/local/lib/python3.10/dist-packages (from transformers) (23.1)\n",
            "Requirement already satisfied: pyyaml>=5.1 in /usr/local/lib/python3.10/dist-packages (from transformers) (6.0)\n",
            "Requirement already satisfied: regex!=2019.12.17 in /usr/local/lib/python3.10/dist-packages (from transformers) (2022.10.31)\n",
            "Requirement already satisfied: requests in /usr/local/lib/python3.10/dist-packages (from transformers) (2.27.1)\n",
            "Collecting tokenizers!=0.11.3,<0.14,>=0.11.1 (from transformers)\n",
            "  Downloading tokenizers-0.13.3-cp310-cp310-manylinux_2_17_x86_64.manylinux2014_x86_64.whl (7.8 MB)\n",
            "\u001b[2K     \u001b[90m━━━━━━━━━━━━━━━━━━━━━━━━━━━━━━━━━━━━━━━━\u001b[0m \u001b[32m7.8/7.8 MB\u001b[0m \u001b[31m70.1 MB/s\u001b[0m eta \u001b[36m0:00:00\u001b[0m\n",
            "\u001b[?25hCollecting safetensors>=0.3.1 (from transformers)\n",
            "  Downloading safetensors-0.3.1-cp310-cp310-manylinux_2_17_x86_64.manylinux2014_x86_64.whl (1.3 MB)\n",
            "\u001b[2K     \u001b[90m━━━━━━━━━━━━━━━━━━━━━━━━━━━━━━━━━━━━━━━━\u001b[0m \u001b[32m1.3/1.3 MB\u001b[0m \u001b[31m71.6 MB/s\u001b[0m eta \u001b[36m0:00:00\u001b[0m\n",
            "\u001b[?25hRequirement already satisfied: tqdm>=4.27 in /usr/local/lib/python3.10/dist-packages (from transformers) (4.65.0)\n",
            "Requirement already satisfied: fsspec in /usr/local/lib/python3.10/dist-packages (from huggingface-hub<1.0,>=0.14.1->transformers) (2023.6.0)\n",
            "Requirement already satisfied: typing-extensions>=3.7.4.3 in /usr/local/lib/python3.10/dist-packages (from huggingface-hub<1.0,>=0.14.1->transformers) (4.7.1)\n",
            "Requirement already satisfied: urllib3<1.27,>=1.21.1 in /usr/local/lib/python3.10/dist-packages (from requests->transformers) (1.26.16)\n",
            "Requirement already satisfied: certifi>=2017.4.17 in /usr/local/lib/python3.10/dist-packages (from requests->transformers) (2023.5.7)\n",
            "Requirement already satisfied: charset-normalizer~=2.0.0 in /usr/local/lib/python3.10/dist-packages (from requests->transformers) (2.0.12)\n",
            "Requirement already satisfied: idna<4,>=2.5 in /usr/local/lib/python3.10/dist-packages (from requests->transformers) (3.4)\n",
            "Installing collected packages: tokenizers, safetensors, huggingface-hub, transformers\n",
            "Successfully installed huggingface-hub-0.15.1 safetensors-0.3.1 tokenizers-0.13.3 transformers-4.30.2\n"
          ]
        }
      ]
    },
    {
      "cell_type": "code",
      "source": [
        "!pip install datasets\n",
        "\n",
        "!pip install jsonlines\n",
        ""
      ],
      "metadata": {
        "colab": {
          "base_uri": "https://localhost:8080/"
        },
        "id": "ydyziySvDsaN",
        "outputId": "e9fdca2d-6406-4af5-bb58-62bce74edaff"
      },
      "execution_count": 7,
      "outputs": [
        {
          "output_type": "stream",
          "name": "stdout",
          "text": [
            "Collecting datasets\n",
            "  Downloading datasets-2.13.1-py3-none-any.whl (486 kB)\n",
            "\u001b[2K     \u001b[90m━━━━━━━━━━━━━━━━━━━━━━━━━━━━━━━━━━━━━━━\u001b[0m \u001b[32m486.2/486.2 kB\u001b[0m \u001b[31m8.3 MB/s\u001b[0m eta \u001b[36m0:00:00\u001b[0m\n",
            "\u001b[?25hRequirement already satisfied: numpy>=1.17 in /usr/local/lib/python3.10/dist-packages (from datasets) (1.25.0)\n",
            "Requirement already satisfied: pyarrow>=8.0.0 in /usr/local/lib/python3.10/dist-packages (from datasets) (9.0.0)\n",
            "Collecting dill<0.3.7,>=0.3.0 (from datasets)\n",
            "  Downloading dill-0.3.6-py3-none-any.whl (110 kB)\n",
            "\u001b[2K     \u001b[90m━━━━━━━━━━━━━━━━━━━━━━━━━━━━━━━━━━━━━━━\u001b[0m \u001b[32m110.5/110.5 kB\u001b[0m \u001b[31m4.9 MB/s\u001b[0m eta \u001b[36m0:00:00\u001b[0m\n",
            "\u001b[?25hRequirement already satisfied: pandas in /usr/local/lib/python3.10/dist-packages (from datasets) (1.5.3)\n",
            "Requirement already satisfied: requests>=2.19.0 in /usr/local/lib/python3.10/dist-packages (from datasets) (2.27.1)\n",
            "Requirement already satisfied: tqdm>=4.62.1 in /usr/local/lib/python3.10/dist-packages (from datasets) (4.65.0)\n",
            "Collecting xxhash (from datasets)\n",
            "  Downloading xxhash-3.2.0-cp310-cp310-manylinux_2_17_x86_64.manylinux2014_x86_64.whl (212 kB)\n",
            "\u001b[2K     \u001b[90m━━━━━━━━━━━━━━━━━━━━━━━━━━━━━━━━━━━━━━\u001b[0m \u001b[32m212.5/212.5 kB\u001b[0m \u001b[31m11.4 MB/s\u001b[0m eta \u001b[36m0:00:00\u001b[0m\n",
            "\u001b[?25hCollecting multiprocess (from datasets)\n",
            "  Downloading multiprocess-0.70.14-py310-none-any.whl (134 kB)\n",
            "\u001b[2K     \u001b[90m━━━━━━━━━━━━━━━━━━━━━━━━━━━━━━━━━━━━━━━\u001b[0m \u001b[32m134.3/134.3 kB\u001b[0m \u001b[31m9.9 MB/s\u001b[0m eta \u001b[36m0:00:00\u001b[0m\n",
            "\u001b[?25hRequirement already satisfied: fsspec[http]>=2021.11.1 in /usr/local/lib/python3.10/dist-packages (from datasets) (2023.6.0)\n",
            "Requirement already satisfied: aiohttp in /usr/local/lib/python3.10/dist-packages (from datasets) (3.8.4)\n",
            "Requirement already satisfied: huggingface-hub<1.0.0,>=0.11.0 in /usr/local/lib/python3.10/dist-packages (from datasets) (0.15.1)\n",
            "Requirement already satisfied: packaging in /usr/local/lib/python3.10/dist-packages (from datasets) (23.1)\n",
            "Requirement already satisfied: pyyaml>=5.1 in /usr/local/lib/python3.10/dist-packages (from datasets) (6.0)\n",
            "Requirement already satisfied: attrs>=17.3.0 in /usr/local/lib/python3.10/dist-packages (from aiohttp->datasets) (23.1.0)\n",
            "Requirement already satisfied: charset-normalizer<4.0,>=2.0 in /usr/local/lib/python3.10/dist-packages (from aiohttp->datasets) (2.0.12)\n",
            "Requirement already satisfied: multidict<7.0,>=4.5 in /usr/local/lib/python3.10/dist-packages (from aiohttp->datasets) (6.0.4)\n",
            "Requirement already satisfied: async-timeout<5.0,>=4.0.0a3 in /usr/local/lib/python3.10/dist-packages (from aiohttp->datasets) (4.0.2)\n",
            "Requirement already satisfied: yarl<2.0,>=1.0 in /usr/local/lib/python3.10/dist-packages (from aiohttp->datasets) (1.9.2)\n",
            "Requirement already satisfied: frozenlist>=1.1.1 in /usr/local/lib/python3.10/dist-packages (from aiohttp->datasets) (1.3.3)\n",
            "Requirement already satisfied: aiosignal>=1.1.2 in /usr/local/lib/python3.10/dist-packages (from aiohttp->datasets) (1.3.1)\n",
            "Requirement already satisfied: filelock in /usr/local/lib/python3.10/dist-packages (from huggingface-hub<1.0.0,>=0.11.0->datasets) (3.12.2)\n",
            "Requirement already satisfied: typing-extensions>=3.7.4.3 in /usr/local/lib/python3.10/dist-packages (from huggingface-hub<1.0.0,>=0.11.0->datasets) (4.7.1)\n",
            "Requirement already satisfied: urllib3<1.27,>=1.21.1 in /usr/local/lib/python3.10/dist-packages (from requests>=2.19.0->datasets) (1.26.16)\n",
            "Requirement already satisfied: certifi>=2017.4.17 in /usr/local/lib/python3.10/dist-packages (from requests>=2.19.0->datasets) (2023.5.7)\n",
            "Requirement already satisfied: idna<4,>=2.5 in /usr/local/lib/python3.10/dist-packages (from requests>=2.19.0->datasets) (3.4)\n",
            "Requirement already satisfied: python-dateutil>=2.8.1 in /usr/local/lib/python3.10/dist-packages (from pandas->datasets) (2.8.2)\n",
            "Requirement already satisfied: pytz>=2020.1 in /usr/local/lib/python3.10/dist-packages (from pandas->datasets) (2022.7.1)\n",
            "Requirement already satisfied: six>=1.5 in /usr/local/lib/python3.10/dist-packages (from python-dateutil>=2.8.1->pandas->datasets) (1.16.0)\n",
            "Installing collected packages: xxhash, dill, multiprocess, datasets\n",
            "Successfully installed datasets-2.13.1 dill-0.3.6 multiprocess-0.70.14 xxhash-3.2.0\n",
            "Collecting jsonlines\n",
            "  Downloading jsonlines-3.1.0-py3-none-any.whl (8.6 kB)\n",
            "Requirement already satisfied: attrs>=19.2.0 in /usr/local/lib/python3.10/dist-packages (from jsonlines) (23.1.0)\n",
            "Installing collected packages: jsonlines\n",
            "Successfully installed jsonlines-3.1.0\n"
          ]
        }
      ]
    },
    {
      "cell_type": "code",
      "execution_count": 8,
      "metadata": {
        "execution": {
          "iopub.execute_input": "2023-05-22T22:00:23.235141Z",
          "iopub.status.busy": "2023-05-22T22:00:23.234559Z",
          "iopub.status.idle": "2023-05-22T22:00:29.099646Z",
          "shell.execute_reply": "2023-05-22T22:00:29.098695Z",
          "shell.execute_reply.started": "2023-05-22T22:00:23.235108Z"
        },
        "trusted": true,
        "id": "Iyu-aocmusUQ"
      },
      "outputs": [],
      "source": [
        "import torch\n",
        "from transformers import GPT2LMHeadModel, GPT2Tokenizer, GPT2Config, TextDataset, DataCollatorForLanguageModeling\n",
        "from transformers import Trainer, TrainingArguments\n",
        "from datasets import load_dataset\n",
        "import pandas as pd\n",
        "from datasets import Dataset\n",
        "from transformers import T5Tokenizer, T5ForConditionalGeneration, TextDataset, DataCollatorForSeq2Seq, Seq2SeqTrainingArguments, Seq2SeqTrainer\n",
        "import jsonlines\n",
        "import re\n",
        "from nltk.corpus import stopwords\n",
        "from nltk.stem import ISRIStemmer"
      ]
    },
    {
      "cell_type": "code",
      "execution_count": 41,
      "metadata": {
        "execution": {
          "iopub.execute_input": "2023-05-22T22:00:29.197537Z",
          "iopub.status.busy": "2023-05-22T22:00:29.197182Z",
          "iopub.status.idle": "2023-05-22T22:00:29.205950Z",
          "shell.execute_reply": "2023-05-22T22:00:29.205061Z",
          "shell.execute_reply.started": "2023-05-22T22:00:29.197504Z"
        },
        "trusted": true,
        "id": "b8a0nYtlusUR"
      },
      "outputs": [],
      "source": [
        "train_df = read_jsonl_to_dataframe('arabic_train.jsonl')\n",
        "val_df = read_jsonl_to_dataframe('arabic_val.jsonl')\n",
        "test_df = read_jsonl_to_dataframe('arabic_test.jsonl')"
      ]
    },
    {
      "cell_type": "code",
      "execution_count": 3,
      "metadata": {
        "execution": {
          "iopub.execute_input": "2023-05-22T22:00:29.102519Z",
          "iopub.status.busy": "2023-05-22T22:00:29.101726Z",
          "iopub.status.idle": "2023-05-22T22:00:29.195547Z",
          "shell.execute_reply": "2023-05-22T22:00:29.194656Z",
          "shell.execute_reply.started": "2023-05-22T22:00:29.102479Z"
        },
        "trusted": true,
        "id": "AVqF9jZBusUQ"
      },
      "outputs": [],
      "source": [
        "def read_jsonl_to_dataframe(file_path):\n",
        "    data = []\n",
        "    with jsonlines.open(file_path) as reader:\n",
        "        for line in reader:\n",
        "            data.append(line)\n",
        "    df = pd.DataFrame(data)\n",
        "    return df"
      ]
    },
    {
      "cell_type": "code",
      "source": [
        "def summarize_arabic_text(text, summary_length=3):\n",
        "    # Step 1: Tokenize the text into sentences\n",
        "    nltk.download('punkt')\n",
        "    sentences = sent_tokenize(text)\n",
        "\n",
        "    # Step 2: Calculate sentence similarity using TF-IDF\n",
        "    vectorizer = CountVectorizer()\n",
        "    sentence_vectors = vectorizer.fit_transform(sentences)\n",
        "    tfidf_transformer = TfidfTransformer()\n",
        "    tfidf_matrix = tfidf_transformer.fit_transform(sentence_vectors)\n",
        "    similarity_matrix = cosine_similarity(tfidf_matrix)\n",
        "\n",
        "    # Step 3: Select the most important sentences based on similarity\n",
        "    sentence_scores = [(i, sum(similarity_matrix[i])) for i in range(len(sentences))]\n",
        "    sentence_scores = sorted(sentence_scores, key=lambda x: x[1], reverse=True)\n",
        "    selected_sentences = [sentences[i] for (i, score) in sentence_scores[:summary_length]]\n",
        "\n",
        "    # Step 4: Combine the selected sentences to create the summary\n",
        "    summary = ' '.join(selected_sentences)\n",
        "\n",
        "    return summary"
      ],
      "metadata": {
        "id": "xSUKko6f217h"
      },
      "execution_count": 42,
      "outputs": []
    },
    {
      "cell_type": "code",
      "source": [
        "with jsonlines.open('train.jsonl', mode='w') as writer:\n",
        "\n",
        "    # Iterate through each row in the dataset and generate summaries\n",
        "    for index, row in train_df.iterrows():\n",
        "        summary = row['summary']\n",
        "        # example_id = row['example_id']\n",
        "        arabic_text = row['text']\n",
        "        predicted = summarize_arabic_text(arabic_text, summary_length=2)\n",
        "\n",
        "        # Create a dictionary for the summary\n",
        "        summary_dict = {\n",
        "\n",
        "            'summary': summary,\n",
        "            'predicted': predicted\n",
        "        }\n",
        "\n",
        "        # Append the summary dictionary to the list\n",
        "        writer.write(summary_dict)\n",
        "\n",
        "        print(f\"Summary for Example ID {example_id}: {summary}\")"
      ],
      "metadata": {
        "id": "A1gEFPyL220D"
      },
      "execution_count": null,
      "outputs": []
    },
    {
      "cell_type": "code",
      "source": [
        "train = read_jsonl_to_dataframe('train.jsonl')\n",
        "validation = read_jsonl_to_dataframe('validation.jsonl')\n",
        "test = read_jsonl_to_dataframe('test.jsonl')"
      ],
      "metadata": {
        "id": "3mEqtEF062mN"
      },
      "execution_count": 4,
      "outputs": []
    },
    {
      "cell_type": "code",
      "source": [
        "train"
      ],
      "metadata": {
        "colab": {
          "base_uri": "https://localhost:8080/",
          "height": 423
        },
        "id": "ABZjIZ5H-GEb",
        "outputId": "d95de47f-1952-4cdf-c52d-cbdda8b412ec"
      },
      "execution_count": 50,
      "outputs": [
        {
          "output_type": "execute_result",
          "data": {
            "text/plain": [
              "                                                 summary  \\\n",
              "0      بدأت القوات الأوكرانية الانسحاب من شبه جزيرة ا...   \n",
              "1      \"هل سيتم تغيير العبارة الشهيرة للمؤرخ اليوناني...   \n",
              "2      قالت الشرطة في القطاع الهندي من إقليم كشمير إن...   \n",
              "3      في عام 816، تجول راهب يدعى كوكاي، في المنحدرات...   \n",
              "4      أكد مصدر في \"الحراك التهامي\" لأبناء محافظة الح...   \n",
              "...                                                  ...   \n",
              "37514                           *هذا الفيديو بدون تعليق*   \n",
              "37515                       بي بي سي ترند تقرير مي نعمان   \n",
              "37516                                    تداعيات متواصلة   \n",
              "37517                                         حملة شامتة   \n",
              "37518                           *هذا الفيديو بدون تعليق*   \n",
              "\n",
              "                                               predicted  \n",
              "0      تسيطر قوات روسية حاليا على معظم القواعد العسكر...  \n",
              "1      وأضاف لبي بي سي \"كان من المفترض أن تتم عملية ت...  \n",
              "2      الجنة الملعونة: دموع الفقراء في كشمير لماذا يل...  \n",
              "3      ومنذ أن حط كوكاي، الذي عرف بعد وفاته باسم كوبو...  \n",
              "4      كما أكد المصدر تمكن مسلحي الحراك من اعتقال مسل...  \n",
              "...                                                  ...  \n",
              "37514  ويقذف البركان بأنهار من الحمم البركانية عبر ال...  \n",
              "37515  لكن القليل من المغردين رأوا ان في هذه الحملة ن...  \n",
              "37516  رمضان آخر يستقبله المسلمون في ظل كورونا للعام ...  \n",
              "37517  ومع وصول ذاك الجدل، الذي تحدث عنه تسيدال إلى ذ...  \n",
              "37518  النسخة صممتها ورشة فكتوم الفنية بمدريد، وسيتم ...  \n",
              "\n",
              "[37519 rows x 2 columns]"
            ],
            "text/html": [
              "\n",
              "  <div id=\"df-66d6c7e8-6047-49ac-86d6-d57b09aa2da9\">\n",
              "    <div class=\"colab-df-container\">\n",
              "      <div>\n",
              "<style scoped>\n",
              "    .dataframe tbody tr th:only-of-type {\n",
              "        vertical-align: middle;\n",
              "    }\n",
              "\n",
              "    .dataframe tbody tr th {\n",
              "        vertical-align: top;\n",
              "    }\n",
              "\n",
              "    .dataframe thead th {\n",
              "        text-align: right;\n",
              "    }\n",
              "</style>\n",
              "<table border=\"1\" class=\"dataframe\">\n",
              "  <thead>\n",
              "    <tr style=\"text-align: right;\">\n",
              "      <th></th>\n",
              "      <th>summary</th>\n",
              "      <th>predicted</th>\n",
              "    </tr>\n",
              "  </thead>\n",
              "  <tbody>\n",
              "    <tr>\n",
              "      <th>0</th>\n",
              "      <td>بدأت القوات الأوكرانية الانسحاب من شبه جزيرة ا...</td>\n",
              "      <td>تسيطر قوات روسية حاليا على معظم القواعد العسكر...</td>\n",
              "    </tr>\n",
              "    <tr>\n",
              "      <th>1</th>\n",
              "      <td>\"هل سيتم تغيير العبارة الشهيرة للمؤرخ اليوناني...</td>\n",
              "      <td>وأضاف لبي بي سي \"كان من المفترض أن تتم عملية ت...</td>\n",
              "    </tr>\n",
              "    <tr>\n",
              "      <th>2</th>\n",
              "      <td>قالت الشرطة في القطاع الهندي من إقليم كشمير إن...</td>\n",
              "      <td>الجنة الملعونة: دموع الفقراء في كشمير لماذا يل...</td>\n",
              "    </tr>\n",
              "    <tr>\n",
              "      <th>3</th>\n",
              "      <td>في عام 816، تجول راهب يدعى كوكاي، في المنحدرات...</td>\n",
              "      <td>ومنذ أن حط كوكاي، الذي عرف بعد وفاته باسم كوبو...</td>\n",
              "    </tr>\n",
              "    <tr>\n",
              "      <th>4</th>\n",
              "      <td>أكد مصدر في \"الحراك التهامي\" لأبناء محافظة الح...</td>\n",
              "      <td>كما أكد المصدر تمكن مسلحي الحراك من اعتقال مسل...</td>\n",
              "    </tr>\n",
              "    <tr>\n",
              "      <th>...</th>\n",
              "      <td>...</td>\n",
              "      <td>...</td>\n",
              "    </tr>\n",
              "    <tr>\n",
              "      <th>37514</th>\n",
              "      <td>*هذا الفيديو بدون تعليق*</td>\n",
              "      <td>ويقذف البركان بأنهار من الحمم البركانية عبر ال...</td>\n",
              "    </tr>\n",
              "    <tr>\n",
              "      <th>37515</th>\n",
              "      <td>بي بي سي ترند تقرير مي نعمان</td>\n",
              "      <td>لكن القليل من المغردين رأوا ان في هذه الحملة ن...</td>\n",
              "    </tr>\n",
              "    <tr>\n",
              "      <th>37516</th>\n",
              "      <td>تداعيات متواصلة</td>\n",
              "      <td>رمضان آخر يستقبله المسلمون في ظل كورونا للعام ...</td>\n",
              "    </tr>\n",
              "    <tr>\n",
              "      <th>37517</th>\n",
              "      <td>حملة شامتة</td>\n",
              "      <td>ومع وصول ذاك الجدل، الذي تحدث عنه تسيدال إلى ذ...</td>\n",
              "    </tr>\n",
              "    <tr>\n",
              "      <th>37518</th>\n",
              "      <td>*هذا الفيديو بدون تعليق*</td>\n",
              "      <td>النسخة صممتها ورشة فكتوم الفنية بمدريد، وسيتم ...</td>\n",
              "    </tr>\n",
              "  </tbody>\n",
              "</table>\n",
              "<p>37519 rows × 2 columns</p>\n",
              "</div>\n",
              "      <button class=\"colab-df-convert\" onclick=\"convertToInteractive('df-66d6c7e8-6047-49ac-86d6-d57b09aa2da9')\"\n",
              "              title=\"Convert this dataframe to an interactive table.\"\n",
              "              style=\"display:none;\">\n",
              "        \n",
              "  <svg xmlns=\"http://www.w3.org/2000/svg\" height=\"24px\"viewBox=\"0 0 24 24\"\n",
              "       width=\"24px\">\n",
              "    <path d=\"M0 0h24v24H0V0z\" fill=\"none\"/>\n",
              "    <path d=\"M18.56 5.44l.94 2.06.94-2.06 2.06-.94-2.06-.94-.94-2.06-.94 2.06-2.06.94zm-11 1L8.5 8.5l.94-2.06 2.06-.94-2.06-.94L8.5 2.5l-.94 2.06-2.06.94zm10 10l.94 2.06.94-2.06 2.06-.94-2.06-.94-.94-2.06-.94 2.06-2.06.94z\"/><path d=\"M17.41 7.96l-1.37-1.37c-.4-.4-.92-.59-1.43-.59-.52 0-1.04.2-1.43.59L10.3 9.45l-7.72 7.72c-.78.78-.78 2.05 0 2.83L4 21.41c.39.39.9.59 1.41.59.51 0 1.02-.2 1.41-.59l7.78-7.78 2.81-2.81c.8-.78.8-2.07 0-2.86zM5.41 20L4 18.59l7.72-7.72 1.47 1.35L5.41 20z\"/>\n",
              "  </svg>\n",
              "      </button>\n",
              "      \n",
              "  <style>\n",
              "    .colab-df-container {\n",
              "      display:flex;\n",
              "      flex-wrap:wrap;\n",
              "      gap: 12px;\n",
              "    }\n",
              "\n",
              "    .colab-df-convert {\n",
              "      background-color: #E8F0FE;\n",
              "      border: none;\n",
              "      border-radius: 50%;\n",
              "      cursor: pointer;\n",
              "      display: none;\n",
              "      fill: #1967D2;\n",
              "      height: 32px;\n",
              "      padding: 0 0 0 0;\n",
              "      width: 32px;\n",
              "    }\n",
              "\n",
              "    .colab-df-convert:hover {\n",
              "      background-color: #E2EBFA;\n",
              "      box-shadow: 0px 1px 2px rgba(60, 64, 67, 0.3), 0px 1px 3px 1px rgba(60, 64, 67, 0.15);\n",
              "      fill: #174EA6;\n",
              "    }\n",
              "\n",
              "    [theme=dark] .colab-df-convert {\n",
              "      background-color: #3B4455;\n",
              "      fill: #D2E3FC;\n",
              "    }\n",
              "\n",
              "    [theme=dark] .colab-df-convert:hover {\n",
              "      background-color: #434B5C;\n",
              "      box-shadow: 0px 1px 3px 1px rgba(0, 0, 0, 0.15);\n",
              "      filter: drop-shadow(0px 1px 2px rgba(0, 0, 0, 0.3));\n",
              "      fill: #FFFFFF;\n",
              "    }\n",
              "  </style>\n",
              "\n",
              "      <script>\n",
              "        const buttonEl =\n",
              "          document.querySelector('#df-66d6c7e8-6047-49ac-86d6-d57b09aa2da9 button.colab-df-convert');\n",
              "        buttonEl.style.display =\n",
              "          google.colab.kernel.accessAllowed ? 'block' : 'none';\n",
              "\n",
              "        async function convertToInteractive(key) {\n",
              "          const element = document.querySelector('#df-66d6c7e8-6047-49ac-86d6-d57b09aa2da9');\n",
              "          const dataTable =\n",
              "            await google.colab.kernel.invokeFunction('convertToInteractive',\n",
              "                                                     [key], {});\n",
              "          if (!dataTable) return;\n",
              "\n",
              "          const docLinkHtml = 'Like what you see? Visit the ' +\n",
              "            '<a target=\"_blank\" href=https://colab.research.google.com/notebooks/data_table.ipynb>data table notebook</a>'\n",
              "            + ' to learn more about interactive tables.';\n",
              "          element.innerHTML = '';\n",
              "          dataTable['output_type'] = 'display_data';\n",
              "          await google.colab.output.renderOutput(dataTable, element);\n",
              "          const docLink = document.createElement('div');\n",
              "          docLink.innerHTML = docLinkHtml;\n",
              "          element.appendChild(docLink);\n",
              "        }\n",
              "      </script>\n",
              "    </div>\n",
              "  </div>\n",
              "  "
            ]
          },
          "metadata": {},
          "execution_count": 50
        }
      ]
    },
    {
      "cell_type": "code",
      "source": [
        "test"
      ],
      "metadata": {
        "colab": {
          "base_uri": "https://localhost:8080/",
          "height": 423
        },
        "id": "vHVKDqYh-GLB",
        "outputId": "40c355ca-f738-4e4c-bb64-cf227e6c38e9"
      },
      "execution_count": 51,
      "outputs": [
        {
          "output_type": "execute_result",
          "data": {
            "text/plain": [
              "                                                summary  \\\n",
              "0     تنظر محكمة عسكرية أمريكية في وقت لاحق من اليوم...   \n",
              "1     كشفت ألمانيا النقاب عن خطط لإضافة الجزائر والم...   \n",
              "2     قال التليفزيون السوري إن قوات الحكومة استعادت ...   \n",
              "3     توج فريق الارسنال ببطولة كأس انجلترا لكرة القد...   \n",
              "4     يوضع الصراع في العراق غالبا في إطار صراع بين ا...   \n",
              "...                                                 ...   \n",
              "4684  مجموعة مختارة من أفضل الصور في القارة الأفريقي...   \n",
              "4685  استأنف الرئيس الفلسطيني محمود عباس ورئيس الوزر...   \n",
              "4686  هناك الكثير مما يجمع كارول نحاس بزوجها كارلوس ...   \n",
              "4687  افرجت السلطات السودانية عن 57 من معتقلي حركة ا...   \n",
              "4688  قالت الحكومة الألمانية إن هناك تراجعا كبيرا في...   \n",
              "\n",
              "                                              predicted  \n",
              "0     وسيواجه حسن عددا من ضحاياه في قاعة المحكمة لأن...  \n",
              "1     ألمانيا تواجه مصاعب في التعامل مع الأعداد المت...  \n",
              "2     وكان الجيش السوري قد استعاد قبل نحو شهرين السي...  \n",
              "3     وفاجأ هال سيتي الحضور بمباغتة الارسنال بهدفين ...  \n",
              "4     ويعتقد بأن ما بين 250 ألف إلى 400 ألف من الشبك...  \n",
              "...                                                 ...  \n",
              "4684  رجل سوداني يغادر مخبزا وهو محمل بحقيبة مملوءة ...  \n",
              "4685  كما شددت على ان بلادها \"ستكون شريكا دائما ونشي...  \n",
              "4686  الدفاع عن كارلوس بعد هروب كارلوس غصن من إقامته...  \n",
              "4687  دعوة ودعا زعيم الحركة خليل ابراهيم بقية الجماع...  \n",
              "4688  وقالت ميركل إن الاتفاق مع تركيا، التي تستضيف 2...  \n",
              "\n",
              "[4689 rows x 2 columns]"
            ],
            "text/html": [
              "\n",
              "  <div id=\"df-00379d79-a9b2-4df7-aef6-bfd1b194520e\">\n",
              "    <div class=\"colab-df-container\">\n",
              "      <div>\n",
              "<style scoped>\n",
              "    .dataframe tbody tr th:only-of-type {\n",
              "        vertical-align: middle;\n",
              "    }\n",
              "\n",
              "    .dataframe tbody tr th {\n",
              "        vertical-align: top;\n",
              "    }\n",
              "\n",
              "    .dataframe thead th {\n",
              "        text-align: right;\n",
              "    }\n",
              "</style>\n",
              "<table border=\"1\" class=\"dataframe\">\n",
              "  <thead>\n",
              "    <tr style=\"text-align: right;\">\n",
              "      <th></th>\n",
              "      <th>summary</th>\n",
              "      <th>predicted</th>\n",
              "    </tr>\n",
              "  </thead>\n",
              "  <tbody>\n",
              "    <tr>\n",
              "      <th>0</th>\n",
              "      <td>تنظر محكمة عسكرية أمريكية في وقت لاحق من اليوم...</td>\n",
              "      <td>وسيواجه حسن عددا من ضحاياه في قاعة المحكمة لأن...</td>\n",
              "    </tr>\n",
              "    <tr>\n",
              "      <th>1</th>\n",
              "      <td>كشفت ألمانيا النقاب عن خطط لإضافة الجزائر والم...</td>\n",
              "      <td>ألمانيا تواجه مصاعب في التعامل مع الأعداد المت...</td>\n",
              "    </tr>\n",
              "    <tr>\n",
              "      <th>2</th>\n",
              "      <td>قال التليفزيون السوري إن قوات الحكومة استعادت ...</td>\n",
              "      <td>وكان الجيش السوري قد استعاد قبل نحو شهرين السي...</td>\n",
              "    </tr>\n",
              "    <tr>\n",
              "      <th>3</th>\n",
              "      <td>توج فريق الارسنال ببطولة كأس انجلترا لكرة القد...</td>\n",
              "      <td>وفاجأ هال سيتي الحضور بمباغتة الارسنال بهدفين ...</td>\n",
              "    </tr>\n",
              "    <tr>\n",
              "      <th>4</th>\n",
              "      <td>يوضع الصراع في العراق غالبا في إطار صراع بين ا...</td>\n",
              "      <td>ويعتقد بأن ما بين 250 ألف إلى 400 ألف من الشبك...</td>\n",
              "    </tr>\n",
              "    <tr>\n",
              "      <th>...</th>\n",
              "      <td>...</td>\n",
              "      <td>...</td>\n",
              "    </tr>\n",
              "    <tr>\n",
              "      <th>4684</th>\n",
              "      <td>مجموعة مختارة من أفضل الصور في القارة الأفريقي...</td>\n",
              "      <td>رجل سوداني يغادر مخبزا وهو محمل بحقيبة مملوءة ...</td>\n",
              "    </tr>\n",
              "    <tr>\n",
              "      <th>4685</th>\n",
              "      <td>استأنف الرئيس الفلسطيني محمود عباس ورئيس الوزر...</td>\n",
              "      <td>كما شددت على ان بلادها \"ستكون شريكا دائما ونشي...</td>\n",
              "    </tr>\n",
              "    <tr>\n",
              "      <th>4686</th>\n",
              "      <td>هناك الكثير مما يجمع كارول نحاس بزوجها كارلوس ...</td>\n",
              "      <td>الدفاع عن كارلوس بعد هروب كارلوس غصن من إقامته...</td>\n",
              "    </tr>\n",
              "    <tr>\n",
              "      <th>4687</th>\n",
              "      <td>افرجت السلطات السودانية عن 57 من معتقلي حركة ا...</td>\n",
              "      <td>دعوة ودعا زعيم الحركة خليل ابراهيم بقية الجماع...</td>\n",
              "    </tr>\n",
              "    <tr>\n",
              "      <th>4688</th>\n",
              "      <td>قالت الحكومة الألمانية إن هناك تراجعا كبيرا في...</td>\n",
              "      <td>وقالت ميركل إن الاتفاق مع تركيا، التي تستضيف 2...</td>\n",
              "    </tr>\n",
              "  </tbody>\n",
              "</table>\n",
              "<p>4689 rows × 2 columns</p>\n",
              "</div>\n",
              "      <button class=\"colab-df-convert\" onclick=\"convertToInteractive('df-00379d79-a9b2-4df7-aef6-bfd1b194520e')\"\n",
              "              title=\"Convert this dataframe to an interactive table.\"\n",
              "              style=\"display:none;\">\n",
              "        \n",
              "  <svg xmlns=\"http://www.w3.org/2000/svg\" height=\"24px\"viewBox=\"0 0 24 24\"\n",
              "       width=\"24px\">\n",
              "    <path d=\"M0 0h24v24H0V0z\" fill=\"none\"/>\n",
              "    <path d=\"M18.56 5.44l.94 2.06.94-2.06 2.06-.94-2.06-.94-.94-2.06-.94 2.06-2.06.94zm-11 1L8.5 8.5l.94-2.06 2.06-.94-2.06-.94L8.5 2.5l-.94 2.06-2.06.94zm10 10l.94 2.06.94-2.06 2.06-.94-2.06-.94-.94-2.06-.94 2.06-2.06.94z\"/><path d=\"M17.41 7.96l-1.37-1.37c-.4-.4-.92-.59-1.43-.59-.52 0-1.04.2-1.43.59L10.3 9.45l-7.72 7.72c-.78.78-.78 2.05 0 2.83L4 21.41c.39.39.9.59 1.41.59.51 0 1.02-.2 1.41-.59l7.78-7.78 2.81-2.81c.8-.78.8-2.07 0-2.86zM5.41 20L4 18.59l7.72-7.72 1.47 1.35L5.41 20z\"/>\n",
              "  </svg>\n",
              "      </button>\n",
              "      \n",
              "  <style>\n",
              "    .colab-df-container {\n",
              "      display:flex;\n",
              "      flex-wrap:wrap;\n",
              "      gap: 12px;\n",
              "    }\n",
              "\n",
              "    .colab-df-convert {\n",
              "      background-color: #E8F0FE;\n",
              "      border: none;\n",
              "      border-radius: 50%;\n",
              "      cursor: pointer;\n",
              "      display: none;\n",
              "      fill: #1967D2;\n",
              "      height: 32px;\n",
              "      padding: 0 0 0 0;\n",
              "      width: 32px;\n",
              "    }\n",
              "\n",
              "    .colab-df-convert:hover {\n",
              "      background-color: #E2EBFA;\n",
              "      box-shadow: 0px 1px 2px rgba(60, 64, 67, 0.3), 0px 1px 3px 1px rgba(60, 64, 67, 0.15);\n",
              "      fill: #174EA6;\n",
              "    }\n",
              "\n",
              "    [theme=dark] .colab-df-convert {\n",
              "      background-color: #3B4455;\n",
              "      fill: #D2E3FC;\n",
              "    }\n",
              "\n",
              "    [theme=dark] .colab-df-convert:hover {\n",
              "      background-color: #434B5C;\n",
              "      box-shadow: 0px 1px 3px 1px rgba(0, 0, 0, 0.15);\n",
              "      filter: drop-shadow(0px 1px 2px rgba(0, 0, 0, 0.3));\n",
              "      fill: #FFFFFF;\n",
              "    }\n",
              "  </style>\n",
              "\n",
              "      <script>\n",
              "        const buttonEl =\n",
              "          document.querySelector('#df-00379d79-a9b2-4df7-aef6-bfd1b194520e button.colab-df-convert');\n",
              "        buttonEl.style.display =\n",
              "          google.colab.kernel.accessAllowed ? 'block' : 'none';\n",
              "\n",
              "        async function convertToInteractive(key) {\n",
              "          const element = document.querySelector('#df-00379d79-a9b2-4df7-aef6-bfd1b194520e');\n",
              "          const dataTable =\n",
              "            await google.colab.kernel.invokeFunction('convertToInteractive',\n",
              "                                                     [key], {});\n",
              "          if (!dataTable) return;\n",
              "\n",
              "          const docLinkHtml = 'Like what you see? Visit the ' +\n",
              "            '<a target=\"_blank\" href=https://colab.research.google.com/notebooks/data_table.ipynb>data table notebook</a>'\n",
              "            + ' to learn more about interactive tables.';\n",
              "          element.innerHTML = '';\n",
              "          dataTable['output_type'] = 'display_data';\n",
              "          await google.colab.output.renderOutput(dataTable, element);\n",
              "          const docLink = document.createElement('div');\n",
              "          docLink.innerHTML = docLinkHtml;\n",
              "          element.appendChild(docLink);\n",
              "        }\n",
              "      </script>\n",
              "    </div>\n",
              "  </div>\n",
              "  "
            ]
          },
          "metadata": {},
          "execution_count": 51
        }
      ]
    },
    {
      "cell_type": "code",
      "source": [
        "validation"
      ],
      "metadata": {
        "colab": {
          "base_uri": "https://localhost:8080/",
          "height": 423
        },
        "id": "wy7Ucbh7-NnY",
        "outputId": "b78a8007-cf1b-40be-bbc1-11cb3cf12ef1"
      },
      "execution_count": 52,
      "outputs": [
        {
          "output_type": "execute_result",
          "data": {
            "text/plain": [
              "                                                summary  \\\n",
              "0     وقع الحوثيون اتفاقا مع عدد من الاحزاب اليمنية ...   \n",
              "1     ناقش معلقون في صحف عربية تطور الأزمة السياسية ...   \n",
              "2     اتهمت الشرطة البريطانية رسميا رجلا فرنسيا بحيا...   \n",
              "3     تطلب شابة على إحدى صفحات فيسبوك المغلقة نصيحة ...   \n",
              "4     فرضت الولايات المتحدة عقوبات على بنك العملة ال...   \n",
              "...                                                 ...   \n",
              "4684  في الأول من مارس/ آذار الجاري بدأ نحو 27 ألف ج...   \n",
              "4685  تسود حالة من الهدوء الحذر محيط القصر والشوارع ...   \n",
              "4686  حذر رئيس حزب العمال الكردستاني السجين، عبدالله...   \n",
              "4687  تناول بعض الأنواع الشائعة من مسكنات الألم له ع...   \n",
              "4688  قال رئيس بلدية لندن صديق خان إن حريق برج غريفن...   \n",
              "\n",
              "                                              predicted  \n",
              "0     دخل القتال بين القوات الحكومية والمسلحين الحوث...  \n",
              "1     \"معركة\" الحكومة والاتحاد العام للشغل في سياقٍ ...  \n",
              "2     أعلنت حالة التأهب الأمني بسبب \"تصرفات مشبوهة\" ...  \n",
              "3     وتتفق عليا خيربك سليمان، مؤسسة مجموعة \"صبايا\" ...  \n",
              "4     قطعت كوريا الشمالية الخط الهاتفي الساخن بين ال...  \n",
              "...                                                 ...  \n",
              "4684  استولى تنظيم الدولة الإسلامية على الموصل في يو...  \n",
              "4685  وكانت قوات الأمن، التي كانت متمركزة قريبا من ن...  \n",
              "4686  أدى تقدم مسلحو الدولة الإسلامية تجاه كوباني إل...  \n",
              "4687  وأشار إلى أن هذه المسكنات يشيع استخدامها من جا...  \n",
              "4688  ارتفاع عدد ضحايا \"حريق لندن\" وقال خان إن \"النا...  \n",
              "\n",
              "[4689 rows x 2 columns]"
            ],
            "text/html": [
              "\n",
              "  <div id=\"df-471e3c64-ddac-4ef3-8694-5495803a8f85\">\n",
              "    <div class=\"colab-df-container\">\n",
              "      <div>\n",
              "<style scoped>\n",
              "    .dataframe tbody tr th:only-of-type {\n",
              "        vertical-align: middle;\n",
              "    }\n",
              "\n",
              "    .dataframe tbody tr th {\n",
              "        vertical-align: top;\n",
              "    }\n",
              "\n",
              "    .dataframe thead th {\n",
              "        text-align: right;\n",
              "    }\n",
              "</style>\n",
              "<table border=\"1\" class=\"dataframe\">\n",
              "  <thead>\n",
              "    <tr style=\"text-align: right;\">\n",
              "      <th></th>\n",
              "      <th>summary</th>\n",
              "      <th>predicted</th>\n",
              "    </tr>\n",
              "  </thead>\n",
              "  <tbody>\n",
              "    <tr>\n",
              "      <th>0</th>\n",
              "      <td>وقع الحوثيون اتفاقا مع عدد من الاحزاب اليمنية ...</td>\n",
              "      <td>دخل القتال بين القوات الحكومية والمسلحين الحوث...</td>\n",
              "    </tr>\n",
              "    <tr>\n",
              "      <th>1</th>\n",
              "      <td>ناقش معلقون في صحف عربية تطور الأزمة السياسية ...</td>\n",
              "      <td>\"معركة\" الحكومة والاتحاد العام للشغل في سياقٍ ...</td>\n",
              "    </tr>\n",
              "    <tr>\n",
              "      <th>2</th>\n",
              "      <td>اتهمت الشرطة البريطانية رسميا رجلا فرنسيا بحيا...</td>\n",
              "      <td>أعلنت حالة التأهب الأمني بسبب \"تصرفات مشبوهة\" ...</td>\n",
              "    </tr>\n",
              "    <tr>\n",
              "      <th>3</th>\n",
              "      <td>تطلب شابة على إحدى صفحات فيسبوك المغلقة نصيحة ...</td>\n",
              "      <td>وتتفق عليا خيربك سليمان، مؤسسة مجموعة \"صبايا\" ...</td>\n",
              "    </tr>\n",
              "    <tr>\n",
              "      <th>4</th>\n",
              "      <td>فرضت الولايات المتحدة عقوبات على بنك العملة ال...</td>\n",
              "      <td>قطعت كوريا الشمالية الخط الهاتفي الساخن بين ال...</td>\n",
              "    </tr>\n",
              "    <tr>\n",
              "      <th>...</th>\n",
              "      <td>...</td>\n",
              "      <td>...</td>\n",
              "    </tr>\n",
              "    <tr>\n",
              "      <th>4684</th>\n",
              "      <td>في الأول من مارس/ آذار الجاري بدأ نحو 27 ألف ج...</td>\n",
              "      <td>استولى تنظيم الدولة الإسلامية على الموصل في يو...</td>\n",
              "    </tr>\n",
              "    <tr>\n",
              "      <th>4685</th>\n",
              "      <td>تسود حالة من الهدوء الحذر محيط القصر والشوارع ...</td>\n",
              "      <td>وكانت قوات الأمن، التي كانت متمركزة قريبا من ن...</td>\n",
              "    </tr>\n",
              "    <tr>\n",
              "      <th>4686</th>\n",
              "      <td>حذر رئيس حزب العمال الكردستاني السجين، عبدالله...</td>\n",
              "      <td>أدى تقدم مسلحو الدولة الإسلامية تجاه كوباني إل...</td>\n",
              "    </tr>\n",
              "    <tr>\n",
              "      <th>4687</th>\n",
              "      <td>تناول بعض الأنواع الشائعة من مسكنات الألم له ع...</td>\n",
              "      <td>وأشار إلى أن هذه المسكنات يشيع استخدامها من جا...</td>\n",
              "    </tr>\n",
              "    <tr>\n",
              "      <th>4688</th>\n",
              "      <td>قال رئيس بلدية لندن صديق خان إن حريق برج غريفن...</td>\n",
              "      <td>ارتفاع عدد ضحايا \"حريق لندن\" وقال خان إن \"النا...</td>\n",
              "    </tr>\n",
              "  </tbody>\n",
              "</table>\n",
              "<p>4689 rows × 2 columns</p>\n",
              "</div>\n",
              "      <button class=\"colab-df-convert\" onclick=\"convertToInteractive('df-471e3c64-ddac-4ef3-8694-5495803a8f85')\"\n",
              "              title=\"Convert this dataframe to an interactive table.\"\n",
              "              style=\"display:none;\">\n",
              "        \n",
              "  <svg xmlns=\"http://www.w3.org/2000/svg\" height=\"24px\"viewBox=\"0 0 24 24\"\n",
              "       width=\"24px\">\n",
              "    <path d=\"M0 0h24v24H0V0z\" fill=\"none\"/>\n",
              "    <path d=\"M18.56 5.44l.94 2.06.94-2.06 2.06-.94-2.06-.94-.94-2.06-.94 2.06-2.06.94zm-11 1L8.5 8.5l.94-2.06 2.06-.94-2.06-.94L8.5 2.5l-.94 2.06-2.06.94zm10 10l.94 2.06.94-2.06 2.06-.94-2.06-.94-.94-2.06-.94 2.06-2.06.94z\"/><path d=\"M17.41 7.96l-1.37-1.37c-.4-.4-.92-.59-1.43-.59-.52 0-1.04.2-1.43.59L10.3 9.45l-7.72 7.72c-.78.78-.78 2.05 0 2.83L4 21.41c.39.39.9.59 1.41.59.51 0 1.02-.2 1.41-.59l7.78-7.78 2.81-2.81c.8-.78.8-2.07 0-2.86zM5.41 20L4 18.59l7.72-7.72 1.47 1.35L5.41 20z\"/>\n",
              "  </svg>\n",
              "      </button>\n",
              "      \n",
              "  <style>\n",
              "    .colab-df-container {\n",
              "      display:flex;\n",
              "      flex-wrap:wrap;\n",
              "      gap: 12px;\n",
              "    }\n",
              "\n",
              "    .colab-df-convert {\n",
              "      background-color: #E8F0FE;\n",
              "      border: none;\n",
              "      border-radius: 50%;\n",
              "      cursor: pointer;\n",
              "      display: none;\n",
              "      fill: #1967D2;\n",
              "      height: 32px;\n",
              "      padding: 0 0 0 0;\n",
              "      width: 32px;\n",
              "    }\n",
              "\n",
              "    .colab-df-convert:hover {\n",
              "      background-color: #E2EBFA;\n",
              "      box-shadow: 0px 1px 2px rgba(60, 64, 67, 0.3), 0px 1px 3px 1px rgba(60, 64, 67, 0.15);\n",
              "      fill: #174EA6;\n",
              "    }\n",
              "\n",
              "    [theme=dark] .colab-df-convert {\n",
              "      background-color: #3B4455;\n",
              "      fill: #D2E3FC;\n",
              "    }\n",
              "\n",
              "    [theme=dark] .colab-df-convert:hover {\n",
              "      background-color: #434B5C;\n",
              "      box-shadow: 0px 1px 3px 1px rgba(0, 0, 0, 0.15);\n",
              "      filter: drop-shadow(0px 1px 2px rgba(0, 0, 0, 0.3));\n",
              "      fill: #FFFFFF;\n",
              "    }\n",
              "  </style>\n",
              "\n",
              "      <script>\n",
              "        const buttonEl =\n",
              "          document.querySelector('#df-471e3c64-ddac-4ef3-8694-5495803a8f85 button.colab-df-convert');\n",
              "        buttonEl.style.display =\n",
              "          google.colab.kernel.accessAllowed ? 'block' : 'none';\n",
              "\n",
              "        async function convertToInteractive(key) {\n",
              "          const element = document.querySelector('#df-471e3c64-ddac-4ef3-8694-5495803a8f85');\n",
              "          const dataTable =\n",
              "            await google.colab.kernel.invokeFunction('convertToInteractive',\n",
              "                                                     [key], {});\n",
              "          if (!dataTable) return;\n",
              "\n",
              "          const docLinkHtml = 'Like what you see? Visit the ' +\n",
              "            '<a target=\"_blank\" href=https://colab.research.google.com/notebooks/data_table.ipynb>data table notebook</a>'\n",
              "            + ' to learn more about interactive tables.';\n",
              "          element.innerHTML = '';\n",
              "          dataTable['output_type'] = 'display_data';\n",
              "          await google.colab.output.renderOutput(dataTable, element);\n",
              "          const docLink = document.createElement('div');\n",
              "          docLink.innerHTML = docLinkHtml;\n",
              "          element.appendChild(docLink);\n",
              "        }\n",
              "      </script>\n",
              "    </div>\n",
              "  </div>\n",
              "  "
            ]
          },
          "metadata": {},
          "execution_count": 52
        }
      ]
    },
    {
      "cell_type": "code",
      "execution_count": 28,
      "metadata": {
        "id": "yhpKOzppusUS"
      },
      "outputs": [],
      "source": [
        "# def remove_features(dataset):\n",
        "#     features_to_remove = ['example_id']\n",
        "#     for feature in features_to_remove:\n",
        "#         if feature in dataset:\n",
        "#             del dataset[feature]\n",
        "#     return dataset\n"
      ]
    },
    {
      "cell_type": "code",
      "execution_count": 29,
      "metadata": {
        "id": "byqq8mCNusUS"
      },
      "outputs": [],
      "source": [
        "# merged_df1 = remove_features(merged_df1)\n",
        "# merged_df2 = remove_features(merged_df2)\n"
      ]
    },
    {
      "cell_type": "code",
      "execution_count": 53,
      "metadata": {
        "id": "KiMYHH38usUT"
      },
      "outputs": [],
      "source": [
        "def get_max_word_count(dataset):\n",
        "    max_word_count = 0\n",
        "    for row in dataset:\n",
        "        words = row.split()  # Splitting the text into words\n",
        "        word_count = len(words)\n",
        "        if word_count > max_word_count:\n",
        "            max_word_count = word_count\n",
        "    return max_word_count\n",
        "\n"
      ]
    },
    {
      "cell_type": "code",
      "execution_count": 55,
      "metadata": {
        "colab": {
          "base_uri": "https://localhost:8080/"
        },
        "id": "aF7ET7mGusUT",
        "outputId": "a9def049-aee0-47e9-f369-d109cc784576"
      },
      "outputs": [
        {
          "output_type": "stream",
          "name": "stdout",
          "text": [
            "Maximum word count paragraph: 515\n",
            "Maximum word count summary: 236\n"
          ]
        }
      ],
      "source": [
        "max_word_count_p = get_max_word_count(train['predicted'])\n",
        "print(\"Maximum word count paragraph:\", max_word_count_p)\n",
        "max_word_count_s = get_max_word_count(train['summary'])\n",
        "print(\"Maximum word count summary:\", max_word_count_s)"
      ]
    },
    {
      "cell_type": "code",
      "execution_count": 56,
      "metadata": {
        "colab": {
          "base_uri": "https://localhost:8080/"
        },
        "id": "urxRyHtkusUT",
        "outputId": "713bd714-a9be-49ea-95fb-4679f143b562"
      },
      "outputs": [
        {
          "output_type": "stream",
          "name": "stdout",
          "text": [
            "Maximum word count paragraph: 352\n",
            "Maximum word count summary: 47\n"
          ]
        }
      ],
      "source": [
        "max_word_count_p = get_max_word_count(test['predicted'])\n",
        "print(\"Maximum word count paragraph:\", max_word_count_p)\n",
        "max_word_count_s = get_max_word_count(test['summary'])\n",
        "print(\"Maximum word count summary:\", max_word_count_s)"
      ]
    },
    {
      "cell_type": "code",
      "source": [
        "max_word_count_p = get_max_word_count(validation['predicted'])\n",
        "print(\"Maximum word count paragraph:\", max_word_count_p)\n",
        "max_word_count_s = get_max_word_count(validation['summary'])\n",
        "print(\"Maximum word count summary:\", max_word_count_s)"
      ],
      "metadata": {
        "colab": {
          "base_uri": "https://localhost:8080/"
        },
        "id": "xV2AWAvr-tZ5",
        "outputId": "23cfea19-86d3-40bc-c132-8fe1b9699074"
      },
      "execution_count": 57,
      "outputs": [
        {
          "output_type": "stream",
          "name": "stdout",
          "text": [
            "Maximum word count paragraph: 253\n",
            "Maximum word count summary: 45\n"
          ]
        }
      ]
    },
    {
      "cell_type": "code",
      "execution_count": 58,
      "metadata": {
        "execution": {
          "iopub.execute_input": "2023-05-22T22:00:29.296236Z",
          "iopub.status.busy": "2023-05-22T22:00:29.295592Z",
          "iopub.status.idle": "2023-05-22T22:00:37.653167Z",
          "shell.execute_reply": "2023-05-22T22:00:37.651919Z",
          "shell.execute_reply.started": "2023-05-22T22:00:29.296203Z"
        },
        "trusted": true,
        "id": "N9vgwVWlusUT"
      },
      "outputs": [],
      "source": [
        "tokenizer = GPT2Tokenizer.from_pretrained(\"aubmindlab/aragpt2-base\")\n",
        "model = GPT2LMHeadModel.from_pretrained(\"aubmindlab/aragpt2-base\")\n",
        "tokenizer.pad_token = tokenizer.eos_token"
      ]
    },
    {
      "cell_type": "code",
      "execution_count": 60,
      "metadata": {
        "execution": {
          "iopub.execute_input": "2023-05-22T22:00:37.655502Z",
          "iopub.status.busy": "2023-05-22T22:00:37.654899Z",
          "iopub.status.idle": "2023-05-22T22:00:37.675646Z",
          "shell.execute_reply": "2023-05-22T22:00:37.674782Z",
          "shell.execute_reply.started": "2023-05-22T22:00:37.655461Z"
        },
        "trusted": true,
        "id": "yCBQ14zlusUT"
      },
      "outputs": [],
      "source": [
        "from datasets import Dataset\n",
        "train_dataset = Dataset.from_dict(train)\n",
        "test_dataset = Dataset.from_dict(test)\n",
        "validation_dataset = Dataset.from_dict(validation)"
      ]
    },
    {
      "cell_type": "code",
      "execution_count": 61,
      "metadata": {
        "execution": {
          "iopub.execute_input": "2023-05-22T22:00:37.677417Z",
          "iopub.status.busy": "2023-05-22T22:00:37.677087Z",
          "iopub.status.idle": "2023-05-22T22:00:37.684154Z",
          "shell.execute_reply": "2023-05-22T22:00:37.683021Z",
          "shell.execute_reply.started": "2023-05-22T22:00:37.677377Z"
        },
        "trusted": true,
        "colab": {
          "base_uri": "https://localhost:8080/"
        },
        "id": "dZfSxExEusUT",
        "outputId": "626d3551-a493-4f7f-9166-115ea2f3318e"
      },
      "outputs": [
        {
          "output_type": "execute_result",
          "data": {
            "text/plain": [
              "Dataset({\n",
              "    features: ['summary', 'predicted'],\n",
              "    num_rows: 37519\n",
              "})"
            ]
          },
          "metadata": {},
          "execution_count": 61
        }
      ],
      "source": [
        "train_dataset"
      ]
    },
    {
      "cell_type": "code",
      "execution_count": 62,
      "metadata": {
        "execution": {
          "iopub.execute_input": "2023-05-22T22:00:37.686508Z",
          "iopub.status.busy": "2023-05-22T22:00:37.685761Z",
          "iopub.status.idle": "2023-05-22T22:00:37.694050Z",
          "shell.execute_reply": "2023-05-22T22:00:37.693023Z",
          "shell.execute_reply.started": "2023-05-22T22:00:37.686475Z"
        },
        "trusted": true,
        "colab": {
          "base_uri": "https://localhost:8080/"
        },
        "id": "gdLaWsZhusUU",
        "outputId": "7fad80e6-5a19-404c-bfae-2e59982fe490"
      },
      "outputs": [
        {
          "output_type": "execute_result",
          "data": {
            "text/plain": [
              "Dataset({\n",
              "    features: ['summary', 'predicted'],\n",
              "    num_rows: 4689\n",
              "})"
            ]
          },
          "metadata": {},
          "execution_count": 62
        }
      ],
      "source": [
        "test_dataset"
      ]
    },
    {
      "cell_type": "code",
      "execution_count": 63,
      "metadata": {
        "colab": {
          "base_uri": "https://localhost:8080/"
        },
        "id": "h-NYvITmusUU",
        "outputId": "45993ea6-664c-4e4a-adac-4cb3e55bbd67"
      },
      "outputs": [
        {
          "output_type": "execute_result",
          "data": {
            "text/plain": [
              "Dataset({\n",
              "    features: ['summary', 'predicted'],\n",
              "    num_rows: 4689\n",
              "})"
            ]
          },
          "metadata": {},
          "execution_count": 63
        }
      ],
      "source": [
        "validation_dataset"
      ]
    },
    {
      "cell_type": "code",
      "execution_count": 64,
      "metadata": {
        "execution": {
          "iopub.execute_input": "2023-05-22T22:00:37.695913Z",
          "iopub.status.busy": "2023-05-22T22:00:37.695393Z",
          "iopub.status.idle": "2023-05-22T22:00:37.703921Z",
          "shell.execute_reply": "2023-05-22T22:00:37.703039Z",
          "shell.execute_reply.started": "2023-05-22T22:00:37.695861Z"
        },
        "trusted": true,
        "id": "JqK2sqPPusUU"
      },
      "outputs": [],
      "source": [
        "import numpy as np\n",
        "\n",
        "def tokenize(example):\n",
        "    input_text = example[\"predicted\"]\n",
        "    target_text = example[\"summary\"]\n",
        "\n",
        "    input_tokens = tokenizer(input_text, truncation=True, padding=\"max_length\", max_length=515)\n",
        "    target_tokens = tokenizer(target_text, truncation=True, padding=\"max_length\", max_length=236)\n",
        "\n",
        "    return {\n",
        "        \"input_ids\": np.array(input_tokens[\"input_ids\"]),\n",
        "        \"attention_mask\": np.array(input_tokens[\"attention_mask\"]),\n",
        "        \"labels\": np.array(target_tokens[\"input_ids\"]),\n",
        "    }\n"
      ]
    },
    {
      "cell_type": "code",
      "execution_count": 66,
      "metadata": {
        "execution": {
          "iopub.execute_input": "2023-05-22T22:00:37.705610Z",
          "iopub.status.busy": "2023-05-22T22:00:37.705237Z",
          "iopub.status.idle": "2023-05-22T22:00:45.007300Z",
          "shell.execute_reply": "2023-05-22T22:00:45.006372Z",
          "shell.execute_reply.started": "2023-05-22T22:00:37.705577Z"
        },
        "trusted": true,
        "colab": {
          "base_uri": "https://localhost:8080/",
          "height": 17,
          "referenced_widgets": [
            "e6f5e7e9849e4914a1a9ab508aaf04e2",
            "3d6ff4ac9ccd4dcbb95171912f10f4a5",
            "9de5b58ee9da4c4a98720bba992f6ff8",
            "19b8417b00fe480eb1b5134332d44461",
            "52be6e604f194ae8b6a53b5a466c5c2f",
            "021a8c09539a4ca39deb5c0b4838ebf9",
            "4ec1ff127a1646bfaad80c9293954fc4",
            "28c7d7762bef4a79bb352df6aee698e4",
            "23d99734d4f04aa395fb921df4870d29",
            "069bd65f15a146579125ef4edb44d42d",
            "878bd1827f984e8dae711c7e5534ed5d",
            "a397278a00814b0eb2aa171006b5d0b5",
            "7527c08f5407443f9e5ef33ddc08e554",
            "18bcdd2135e94d0c923214aa17e18744",
            "8ad6cc23e9c1466ea8fdc17b61a78bc2",
            "d23a2cfd5d5e48beaab6f28c9c0512b7",
            "6550904a500d4e7f938717ecefa9e3a5",
            "f69d796d7dee4cd597f8c4d7c1b1a2d1",
            "abd74d181cbe41bb9e30435c5f234340",
            "3e3aa5f7c4184262b8f940d96e58552e",
            "d1018d0893974b4b9b4e9a805c150b6e",
            "3f9270ad048a4100bb796453c1b6951c",
            "6edd0cd9888a453f84f49a46585256ea",
            "081d3123a6af47b79a95a3441db427a6",
            "64485d82dfb94534a9da4ad23b8415b0",
            "da60943438ee42c58c7bc19baad332a9",
            "47a93b91f50c41e8b59122ecc10e6ea7",
            "0ecf8187deef42aa83420ee335a3e5c6",
            "02fbc41f074d4c6594105552ea5f46b9",
            "6ebd85a229a340798d602553b52ed933",
            "7b38c4256e0b478b8f03d14c7150d0ff",
            "7e96495b0fba47b48804f75a53f664b6",
            "d46f67d935da4c2bbe7b84bcfcef14d3"
          ]
        },
        "id": "5JOybIpnusUU",
        "outputId": "6cbea06c-b9fe-47f6-dfa6-d3bff9723eae"
      },
      "outputs": [
        {
          "output_type": "display_data",
          "data": {
            "text/plain": [
              "Map:   0%|          | 0/37519 [00:00<?, ? examples/s]"
            ],
            "application/vnd.jupyter.widget-view+json": {
              "version_major": 2,
              "version_minor": 0,
              "model_id": "e6f5e7e9849e4914a1a9ab508aaf04e2"
            }
          },
          "metadata": {}
        },
        {
          "output_type": "display_data",
          "data": {
            "text/plain": [
              "Map:   0%|          | 0/4689 [00:00<?, ? examples/s]"
            ],
            "application/vnd.jupyter.widget-view+json": {
              "version_major": 2,
              "version_minor": 0,
              "model_id": "a397278a00814b0eb2aa171006b5d0b5"
            }
          },
          "metadata": {}
        },
        {
          "output_type": "display_data",
          "data": {
            "text/plain": [
              "Map:   0%|          | 0/4689 [00:00<?, ? examples/s]"
            ],
            "application/vnd.jupyter.widget-view+json": {
              "version_major": 2,
              "version_minor": 0,
              "model_id": "6edd0cd9888a453f84f49a46585256ea"
            }
          },
          "metadata": {}
        }
      ],
      "source": [
        "train_dataset = train_dataset.map(tokenize, batched=True, remove_columns=[\"predicted\", \"summary\"])\n",
        "test_dataset = test_dataset.map(tokenize, batched=True, remove_columns=[\"predicted\", \"summary\"])\n",
        "validation_dataset = validation_dataset.map(tokenize, batched=True, remove_columns=[\"predicted\", \"summary\"])"
      ]
    },
    {
      "cell_type": "code",
      "execution_count": 67,
      "metadata": {
        "execution": {
          "iopub.execute_input": "2023-05-22T22:00:45.009573Z",
          "iopub.status.busy": "2023-05-22T22:00:45.008569Z",
          "iopub.status.idle": "2023-05-22T22:00:45.016137Z",
          "shell.execute_reply": "2023-05-22T22:00:45.015267Z",
          "shell.execute_reply.started": "2023-05-22T22:00:45.009537Z"
        },
        "trusted": true,
        "colab": {
          "base_uri": "https://localhost:8080/"
        },
        "id": "-686543ousUU",
        "outputId": "efe71075-0fb2-4249-b7d1-a9d501ddcbad"
      },
      "outputs": [
        {
          "output_type": "execute_result",
          "data": {
            "text/plain": [
              "Dataset({\n",
              "    features: ['input_ids', 'attention_mask', 'labels'],\n",
              "    num_rows: 37519\n",
              "})"
            ]
          },
          "metadata": {},
          "execution_count": 67
        }
      ],
      "source": [
        "train_dataset"
      ]
    },
    {
      "cell_type": "code",
      "execution_count": 68,
      "metadata": {
        "execution": {
          "iopub.execute_input": "2023-05-22T22:00:45.018392Z",
          "iopub.status.busy": "2023-05-22T22:00:45.017284Z",
          "iopub.status.idle": "2023-05-22T22:00:45.028868Z",
          "shell.execute_reply": "2023-05-22T22:00:45.027851Z",
          "shell.execute_reply.started": "2023-05-22T22:00:45.018358Z"
        },
        "trusted": true,
        "colab": {
          "base_uri": "https://localhost:8080/"
        },
        "id": "Kex8nw5SusUU",
        "outputId": "d467e1c8-d5e4-47eb-ceaf-f5d255e9f1fe"
      },
      "outputs": [
        {
          "output_type": "execute_result",
          "data": {
            "text/plain": [
              "Dataset({\n",
              "    features: ['input_ids', 'attention_mask', 'labels'],\n",
              "    num_rows: 4689\n",
              "})"
            ]
          },
          "metadata": {},
          "execution_count": 68
        }
      ],
      "source": [
        "test_dataset"
      ]
    },
    {
      "cell_type": "code",
      "execution_count": 1,
      "metadata": {
        "execution": {
          "iopub.execute_input": "2023-05-22T22:03:51.378808Z",
          "iopub.status.busy": "2023-05-22T22:03:51.378452Z",
          "iopub.status.idle": "2023-05-22T22:03:51.399745Z",
          "shell.execute_reply": "2023-05-22T22:03:51.397373Z",
          "shell.execute_reply.started": "2023-05-22T22:03:51.378779Z"
        },
        "trusted": true,
        "colab": {
          "base_uri": "https://localhost:8080/",
          "height": 241
        },
        "id": "M-JCfD5ZusUU",
        "outputId": "fff7a012-e350-455a-99cd-0983b82195c0"
      },
      "outputs": [
        {
          "output_type": "error",
          "ename": "NameError",
          "evalue": "ignored",
          "traceback": [
            "\u001b[0;31m---------------------------------------------------------------------------\u001b[0m",
            "\u001b[0;31mNameError\u001b[0m                                 Traceback (most recent call last)",
            "\u001b[0;32m<ipython-input-1-22f6e03e71cb>\u001b[0m in \u001b[0;36m<cell line: 16>\u001b[0;34m()\u001b[0m\n\u001b[1;32m     15\u001b[0m \u001b[0;34m\u001b[0m\u001b[0m\n\u001b[1;32m     16\u001b[0m trainer = Trainer(\n\u001b[0;32m---> 17\u001b[0;31m     \u001b[0mmodel\u001b[0m\u001b[0;34m=\u001b[0m\u001b[0mmodel\u001b[0m\u001b[0;34m,\u001b[0m\u001b[0;34m\u001b[0m\u001b[0;34m\u001b[0m\u001b[0m\n\u001b[0m\u001b[1;32m     18\u001b[0m     \u001b[0margs\u001b[0m\u001b[0;34m=\u001b[0m\u001b[0mtraining_args\u001b[0m\u001b[0;34m,\u001b[0m\u001b[0;34m\u001b[0m\u001b[0;34m\u001b[0m\u001b[0m\n\u001b[1;32m     19\u001b[0m     \u001b[0mtrain_dataset\u001b[0m\u001b[0;34m=\u001b[0m\u001b[0mtrain_dataset\u001b[0m\u001b[0;34m,\u001b[0m\u001b[0;34m\u001b[0m\u001b[0;34m\u001b[0m\u001b[0m\n",
            "\u001b[0;31mNameError\u001b[0m: name 'model' is not defined"
          ]
        }
      ],
      "source": [
        "from transformers import TrainingArguments\n",
        "from sklearn.metrics import accuracy_score\n",
        "\n",
        "training_args = TrainingArguments(\n",
        "    output_dir=\"./output\",\n",
        "    num_train_epochs=1,\n",
        "    per_device_train_batch_size=8,\n",
        "    save_steps=10_000,\n",
        "    save_total_limit=2,\n",
        "    evaluation_strategy=\"epoch\",\n",
        "    save_strategy='epoch'\n",
        ")\n",
        "\n",
        "from transformers import Trainer\n",
        "\n",
        "trainer = Trainer(\n",
        "    model=model,\n",
        "    args=training_args,\n",
        "    train_dataset=train_dataset,\n",
        "    eval_dataset=validation_dataset,\n",
        ")\n"
      ]
    },
    {
      "cell_type": "code",
      "execution_count": null,
      "metadata": {
        "execution": {
          "iopub.execute_input": "2023-05-22T22:03:55.293629Z",
          "iopub.status.busy": "2023-05-22T22:03:55.293265Z",
          "iopub.status.idle": "2023-05-22T22:04:16.894998Z",
          "shell.execute_reply": "2023-05-22T22:04:16.889818Z",
          "shell.execute_reply.started": "2023-05-22T22:03:55.293602Z"
        },
        "trusted": true,
        "id": "hO3BXLYGusUV"
      },
      "outputs": [],
      "source": [
        "trainer.train()"
      ]
    },
    {
      "cell_type": "code",
      "execution_count": null,
      "metadata": {
        "execution": {
          "iopub.status.busy": "2023-05-22T22:01:50.376215Z",
          "iopub.status.idle": "2023-05-22T22:01:50.376993Z",
          "shell.execute_reply": "2023-05-22T22:01:50.376751Z",
          "shell.execute_reply.started": "2023-05-22T22:01:50.376727Z"
        },
        "trusted": true,
        "id": "hlWLDjvbusUV"
      },
      "outputs": [],
      "source": [
        "# input_text = \"انا ادري مين انا يا حبيبي\"\n",
        "input_text=\"artist: ويجز genre: 4\"\n",
        "input_ids = tokenizer.encode(input_text, return_tensors=\"pt\").to(\"cuda\")\n",
        "output = model.generate(input_ids, max_length=128)\n",
        "# print(tokenizer.batch_decode(output[0]))\n",
        "for i, generated_text in enumerate(tokenizer.batch_decode(output)):\n",
        "    print(f\"Generated text {i + 1}:\")\n",
        "    print(generated_text)\n"
      ]
    },
    {
      "cell_type": "code",
      "execution_count": null,
      "metadata": {
        "id": "gVghQIpOusUV"
      },
      "outputs": [],
      "source": [
        "def evaluate_summary(y_test, predicted):\n",
        "    rouge_score = rouge.Rouge()\n",
        "    scores = rouge_score.get_scores(y_test, predicted, avg=True)\n",
        "    score_1 = round(scores['rouge-1']['f'], 2)\n",
        "    score_2 = round(scores['rouge-2']['f'], 2)\n",
        "    score_L = round(scores['rouge-l']['f'], 2)\n",
        "    print(\"rouge1:\", score_1, \"| rouge2:\", score_2, \"| rougeL:\", score_L,\n",
        "          \"--> avg rouge:\", round(np.mean([score_1, score_2, score_L]), 2))"
      ]
    }
  ],
  "metadata": {
    "kernelspec": {
      "display_name": "Python 3",
      "name": "python3"
    },
    "language_info": {
      "codemirror_mode": {
        "name": "ipython",
        "version": 3
      },
      "file_extension": ".py",
      "mimetype": "text/x-python",
      "name": "python",
      "nbconvert_exporter": "python",
      "pygments_lexer": "ipython3",
      "version": "3.9.13"
    },
    "colab": {
      "provenance": []
    },
    "accelerator": "TPU",
    "widgets": {
      "application/vnd.jupyter.widget-state+json": {
        "e6f5e7e9849e4914a1a9ab508aaf04e2": {
          "model_module": "@jupyter-widgets/controls",
          "model_name": "HBoxModel",
          "model_module_version": "1.5.0",
          "state": {
            "_dom_classes": [],
            "_model_module": "@jupyter-widgets/controls",
            "_model_module_version": "1.5.0",
            "_model_name": "HBoxModel",
            "_view_count": null,
            "_view_module": "@jupyter-widgets/controls",
            "_view_module_version": "1.5.0",
            "_view_name": "HBoxView",
            "box_style": "",
            "children": [
              "IPY_MODEL_3d6ff4ac9ccd4dcbb95171912f10f4a5",
              "IPY_MODEL_9de5b58ee9da4c4a98720bba992f6ff8",
              "IPY_MODEL_19b8417b00fe480eb1b5134332d44461"
            ],
            "layout": "IPY_MODEL_52be6e604f194ae8b6a53b5a466c5c2f"
          }
        },
        "3d6ff4ac9ccd4dcbb95171912f10f4a5": {
          "model_module": "@jupyter-widgets/controls",
          "model_name": "HTMLModel",
          "model_module_version": "1.5.0",
          "state": {
            "_dom_classes": [],
            "_model_module": "@jupyter-widgets/controls",
            "_model_module_version": "1.5.0",
            "_model_name": "HTMLModel",
            "_view_count": null,
            "_view_module": "@jupyter-widgets/controls",
            "_view_module_version": "1.5.0",
            "_view_name": "HTMLView",
            "description": "",
            "description_tooltip": null,
            "layout": "IPY_MODEL_021a8c09539a4ca39deb5c0b4838ebf9",
            "placeholder": "​",
            "style": "IPY_MODEL_4ec1ff127a1646bfaad80c9293954fc4",
            "value": "Map: 100%"
          }
        },
        "9de5b58ee9da4c4a98720bba992f6ff8": {
          "model_module": "@jupyter-widgets/controls",
          "model_name": "FloatProgressModel",
          "model_module_version": "1.5.0",
          "state": {
            "_dom_classes": [],
            "_model_module": "@jupyter-widgets/controls",
            "_model_module_version": "1.5.0",
            "_model_name": "FloatProgressModel",
            "_view_count": null,
            "_view_module": "@jupyter-widgets/controls",
            "_view_module_version": "1.5.0",
            "_view_name": "ProgressView",
            "bar_style": "",
            "description": "",
            "description_tooltip": null,
            "layout": "IPY_MODEL_28c7d7762bef4a79bb352df6aee698e4",
            "max": 37519,
            "min": 0,
            "orientation": "horizontal",
            "style": "IPY_MODEL_23d99734d4f04aa395fb921df4870d29",
            "value": 37519
          }
        },
        "19b8417b00fe480eb1b5134332d44461": {
          "model_module": "@jupyter-widgets/controls",
          "model_name": "HTMLModel",
          "model_module_version": "1.5.0",
          "state": {
            "_dom_classes": [],
            "_model_module": "@jupyter-widgets/controls",
            "_model_module_version": "1.5.0",
            "_model_name": "HTMLModel",
            "_view_count": null,
            "_view_module": "@jupyter-widgets/controls",
            "_view_module_version": "1.5.0",
            "_view_name": "HTMLView",
            "description": "",
            "description_tooltip": null,
            "layout": "IPY_MODEL_069bd65f15a146579125ef4edb44d42d",
            "placeholder": "​",
            "style": "IPY_MODEL_878bd1827f984e8dae711c7e5534ed5d",
            "value": " 37519/37519 [01:13&lt;00:00, 646.43 examples/s]"
          }
        },
        "52be6e604f194ae8b6a53b5a466c5c2f": {
          "model_module": "@jupyter-widgets/base",
          "model_name": "LayoutModel",
          "model_module_version": "1.2.0",
          "state": {
            "_model_module": "@jupyter-widgets/base",
            "_model_module_version": "1.2.0",
            "_model_name": "LayoutModel",
            "_view_count": null,
            "_view_module": "@jupyter-widgets/base",
            "_view_module_version": "1.2.0",
            "_view_name": "LayoutView",
            "align_content": null,
            "align_items": null,
            "align_self": null,
            "border": null,
            "bottom": null,
            "display": null,
            "flex": null,
            "flex_flow": null,
            "grid_area": null,
            "grid_auto_columns": null,
            "grid_auto_flow": null,
            "grid_auto_rows": null,
            "grid_column": null,
            "grid_gap": null,
            "grid_row": null,
            "grid_template_areas": null,
            "grid_template_columns": null,
            "grid_template_rows": null,
            "height": null,
            "justify_content": null,
            "justify_items": null,
            "left": null,
            "margin": null,
            "max_height": null,
            "max_width": null,
            "min_height": null,
            "min_width": null,
            "object_fit": null,
            "object_position": null,
            "order": null,
            "overflow": null,
            "overflow_x": null,
            "overflow_y": null,
            "padding": null,
            "right": null,
            "top": null,
            "visibility": "hidden",
            "width": null
          }
        },
        "021a8c09539a4ca39deb5c0b4838ebf9": {
          "model_module": "@jupyter-widgets/base",
          "model_name": "LayoutModel",
          "model_module_version": "1.2.0",
          "state": {
            "_model_module": "@jupyter-widgets/base",
            "_model_module_version": "1.2.0",
            "_model_name": "LayoutModel",
            "_view_count": null,
            "_view_module": "@jupyter-widgets/base",
            "_view_module_version": "1.2.0",
            "_view_name": "LayoutView",
            "align_content": null,
            "align_items": null,
            "align_self": null,
            "border": null,
            "bottom": null,
            "display": null,
            "flex": null,
            "flex_flow": null,
            "grid_area": null,
            "grid_auto_columns": null,
            "grid_auto_flow": null,
            "grid_auto_rows": null,
            "grid_column": null,
            "grid_gap": null,
            "grid_row": null,
            "grid_template_areas": null,
            "grid_template_columns": null,
            "grid_template_rows": null,
            "height": null,
            "justify_content": null,
            "justify_items": null,
            "left": null,
            "margin": null,
            "max_height": null,
            "max_width": null,
            "min_height": null,
            "min_width": null,
            "object_fit": null,
            "object_position": null,
            "order": null,
            "overflow": null,
            "overflow_x": null,
            "overflow_y": null,
            "padding": null,
            "right": null,
            "top": null,
            "visibility": null,
            "width": null
          }
        },
        "4ec1ff127a1646bfaad80c9293954fc4": {
          "model_module": "@jupyter-widgets/controls",
          "model_name": "DescriptionStyleModel",
          "model_module_version": "1.5.0",
          "state": {
            "_model_module": "@jupyter-widgets/controls",
            "_model_module_version": "1.5.0",
            "_model_name": "DescriptionStyleModel",
            "_view_count": null,
            "_view_module": "@jupyter-widgets/base",
            "_view_module_version": "1.2.0",
            "_view_name": "StyleView",
            "description_width": ""
          }
        },
        "28c7d7762bef4a79bb352df6aee698e4": {
          "model_module": "@jupyter-widgets/base",
          "model_name": "LayoutModel",
          "model_module_version": "1.2.0",
          "state": {
            "_model_module": "@jupyter-widgets/base",
            "_model_module_version": "1.2.0",
            "_model_name": "LayoutModel",
            "_view_count": null,
            "_view_module": "@jupyter-widgets/base",
            "_view_module_version": "1.2.0",
            "_view_name": "LayoutView",
            "align_content": null,
            "align_items": null,
            "align_self": null,
            "border": null,
            "bottom": null,
            "display": null,
            "flex": null,
            "flex_flow": null,
            "grid_area": null,
            "grid_auto_columns": null,
            "grid_auto_flow": null,
            "grid_auto_rows": null,
            "grid_column": null,
            "grid_gap": null,
            "grid_row": null,
            "grid_template_areas": null,
            "grid_template_columns": null,
            "grid_template_rows": null,
            "height": null,
            "justify_content": null,
            "justify_items": null,
            "left": null,
            "margin": null,
            "max_height": null,
            "max_width": null,
            "min_height": null,
            "min_width": null,
            "object_fit": null,
            "object_position": null,
            "order": null,
            "overflow": null,
            "overflow_x": null,
            "overflow_y": null,
            "padding": null,
            "right": null,
            "top": null,
            "visibility": null,
            "width": null
          }
        },
        "23d99734d4f04aa395fb921df4870d29": {
          "model_module": "@jupyter-widgets/controls",
          "model_name": "ProgressStyleModel",
          "model_module_version": "1.5.0",
          "state": {
            "_model_module": "@jupyter-widgets/controls",
            "_model_module_version": "1.5.0",
            "_model_name": "ProgressStyleModel",
            "_view_count": null,
            "_view_module": "@jupyter-widgets/base",
            "_view_module_version": "1.2.0",
            "_view_name": "StyleView",
            "bar_color": null,
            "description_width": ""
          }
        },
        "069bd65f15a146579125ef4edb44d42d": {
          "model_module": "@jupyter-widgets/base",
          "model_name": "LayoutModel",
          "model_module_version": "1.2.0",
          "state": {
            "_model_module": "@jupyter-widgets/base",
            "_model_module_version": "1.2.0",
            "_model_name": "LayoutModel",
            "_view_count": null,
            "_view_module": "@jupyter-widgets/base",
            "_view_module_version": "1.2.0",
            "_view_name": "LayoutView",
            "align_content": null,
            "align_items": null,
            "align_self": null,
            "border": null,
            "bottom": null,
            "display": null,
            "flex": null,
            "flex_flow": null,
            "grid_area": null,
            "grid_auto_columns": null,
            "grid_auto_flow": null,
            "grid_auto_rows": null,
            "grid_column": null,
            "grid_gap": null,
            "grid_row": null,
            "grid_template_areas": null,
            "grid_template_columns": null,
            "grid_template_rows": null,
            "height": null,
            "justify_content": null,
            "justify_items": null,
            "left": null,
            "margin": null,
            "max_height": null,
            "max_width": null,
            "min_height": null,
            "min_width": null,
            "object_fit": null,
            "object_position": null,
            "order": null,
            "overflow": null,
            "overflow_x": null,
            "overflow_y": null,
            "padding": null,
            "right": null,
            "top": null,
            "visibility": null,
            "width": null
          }
        },
        "878bd1827f984e8dae711c7e5534ed5d": {
          "model_module": "@jupyter-widgets/controls",
          "model_name": "DescriptionStyleModel",
          "model_module_version": "1.5.0",
          "state": {
            "_model_module": "@jupyter-widgets/controls",
            "_model_module_version": "1.5.0",
            "_model_name": "DescriptionStyleModel",
            "_view_count": null,
            "_view_module": "@jupyter-widgets/base",
            "_view_module_version": "1.2.0",
            "_view_name": "StyleView",
            "description_width": ""
          }
        },
        "a397278a00814b0eb2aa171006b5d0b5": {
          "model_module": "@jupyter-widgets/controls",
          "model_name": "HBoxModel",
          "model_module_version": "1.5.0",
          "state": {
            "_dom_classes": [],
            "_model_module": "@jupyter-widgets/controls",
            "_model_module_version": "1.5.0",
            "_model_name": "HBoxModel",
            "_view_count": null,
            "_view_module": "@jupyter-widgets/controls",
            "_view_module_version": "1.5.0",
            "_view_name": "HBoxView",
            "box_style": "",
            "children": [
              "IPY_MODEL_7527c08f5407443f9e5ef33ddc08e554",
              "IPY_MODEL_18bcdd2135e94d0c923214aa17e18744",
              "IPY_MODEL_8ad6cc23e9c1466ea8fdc17b61a78bc2"
            ],
            "layout": "IPY_MODEL_d23a2cfd5d5e48beaab6f28c9c0512b7"
          }
        },
        "7527c08f5407443f9e5ef33ddc08e554": {
          "model_module": "@jupyter-widgets/controls",
          "model_name": "HTMLModel",
          "model_module_version": "1.5.0",
          "state": {
            "_dom_classes": [],
            "_model_module": "@jupyter-widgets/controls",
            "_model_module_version": "1.5.0",
            "_model_name": "HTMLModel",
            "_view_count": null,
            "_view_module": "@jupyter-widgets/controls",
            "_view_module_version": "1.5.0",
            "_view_name": "HTMLView",
            "description": "",
            "description_tooltip": null,
            "layout": "IPY_MODEL_6550904a500d4e7f938717ecefa9e3a5",
            "placeholder": "​",
            "style": "IPY_MODEL_f69d796d7dee4cd597f8c4d7c1b1a2d1",
            "value": "Map: 100%"
          }
        },
        "18bcdd2135e94d0c923214aa17e18744": {
          "model_module": "@jupyter-widgets/controls",
          "model_name": "FloatProgressModel",
          "model_module_version": "1.5.0",
          "state": {
            "_dom_classes": [],
            "_model_module": "@jupyter-widgets/controls",
            "_model_module_version": "1.5.0",
            "_model_name": "FloatProgressModel",
            "_view_count": null,
            "_view_module": "@jupyter-widgets/controls",
            "_view_module_version": "1.5.0",
            "_view_name": "ProgressView",
            "bar_style": "",
            "description": "",
            "description_tooltip": null,
            "layout": "IPY_MODEL_abd74d181cbe41bb9e30435c5f234340",
            "max": 4689,
            "min": 0,
            "orientation": "horizontal",
            "style": "IPY_MODEL_3e3aa5f7c4184262b8f940d96e58552e",
            "value": 4689
          }
        },
        "8ad6cc23e9c1466ea8fdc17b61a78bc2": {
          "model_module": "@jupyter-widgets/controls",
          "model_name": "HTMLModel",
          "model_module_version": "1.5.0",
          "state": {
            "_dom_classes": [],
            "_model_module": "@jupyter-widgets/controls",
            "_model_module_version": "1.5.0",
            "_model_name": "HTMLModel",
            "_view_count": null,
            "_view_module": "@jupyter-widgets/controls",
            "_view_module_version": "1.5.0",
            "_view_name": "HTMLView",
            "description": "",
            "description_tooltip": null,
            "layout": "IPY_MODEL_d1018d0893974b4b9b4e9a805c150b6e",
            "placeholder": "​",
            "style": "IPY_MODEL_3f9270ad048a4100bb796453c1b6951c",
            "value": " 4689/4689 [00:05&lt;00:00, 889.56 examples/s]"
          }
        },
        "d23a2cfd5d5e48beaab6f28c9c0512b7": {
          "model_module": "@jupyter-widgets/base",
          "model_name": "LayoutModel",
          "model_module_version": "1.2.0",
          "state": {
            "_model_module": "@jupyter-widgets/base",
            "_model_module_version": "1.2.0",
            "_model_name": "LayoutModel",
            "_view_count": null,
            "_view_module": "@jupyter-widgets/base",
            "_view_module_version": "1.2.0",
            "_view_name": "LayoutView",
            "align_content": null,
            "align_items": null,
            "align_self": null,
            "border": null,
            "bottom": null,
            "display": null,
            "flex": null,
            "flex_flow": null,
            "grid_area": null,
            "grid_auto_columns": null,
            "grid_auto_flow": null,
            "grid_auto_rows": null,
            "grid_column": null,
            "grid_gap": null,
            "grid_row": null,
            "grid_template_areas": null,
            "grid_template_columns": null,
            "grid_template_rows": null,
            "height": null,
            "justify_content": null,
            "justify_items": null,
            "left": null,
            "margin": null,
            "max_height": null,
            "max_width": null,
            "min_height": null,
            "min_width": null,
            "object_fit": null,
            "object_position": null,
            "order": null,
            "overflow": null,
            "overflow_x": null,
            "overflow_y": null,
            "padding": null,
            "right": null,
            "top": null,
            "visibility": "hidden",
            "width": null
          }
        },
        "6550904a500d4e7f938717ecefa9e3a5": {
          "model_module": "@jupyter-widgets/base",
          "model_name": "LayoutModel",
          "model_module_version": "1.2.0",
          "state": {
            "_model_module": "@jupyter-widgets/base",
            "_model_module_version": "1.2.0",
            "_model_name": "LayoutModel",
            "_view_count": null,
            "_view_module": "@jupyter-widgets/base",
            "_view_module_version": "1.2.0",
            "_view_name": "LayoutView",
            "align_content": null,
            "align_items": null,
            "align_self": null,
            "border": null,
            "bottom": null,
            "display": null,
            "flex": null,
            "flex_flow": null,
            "grid_area": null,
            "grid_auto_columns": null,
            "grid_auto_flow": null,
            "grid_auto_rows": null,
            "grid_column": null,
            "grid_gap": null,
            "grid_row": null,
            "grid_template_areas": null,
            "grid_template_columns": null,
            "grid_template_rows": null,
            "height": null,
            "justify_content": null,
            "justify_items": null,
            "left": null,
            "margin": null,
            "max_height": null,
            "max_width": null,
            "min_height": null,
            "min_width": null,
            "object_fit": null,
            "object_position": null,
            "order": null,
            "overflow": null,
            "overflow_x": null,
            "overflow_y": null,
            "padding": null,
            "right": null,
            "top": null,
            "visibility": null,
            "width": null
          }
        },
        "f69d796d7dee4cd597f8c4d7c1b1a2d1": {
          "model_module": "@jupyter-widgets/controls",
          "model_name": "DescriptionStyleModel",
          "model_module_version": "1.5.0",
          "state": {
            "_model_module": "@jupyter-widgets/controls",
            "_model_module_version": "1.5.0",
            "_model_name": "DescriptionStyleModel",
            "_view_count": null,
            "_view_module": "@jupyter-widgets/base",
            "_view_module_version": "1.2.0",
            "_view_name": "StyleView",
            "description_width": ""
          }
        },
        "abd74d181cbe41bb9e30435c5f234340": {
          "model_module": "@jupyter-widgets/base",
          "model_name": "LayoutModel",
          "model_module_version": "1.2.0",
          "state": {
            "_model_module": "@jupyter-widgets/base",
            "_model_module_version": "1.2.0",
            "_model_name": "LayoutModel",
            "_view_count": null,
            "_view_module": "@jupyter-widgets/base",
            "_view_module_version": "1.2.0",
            "_view_name": "LayoutView",
            "align_content": null,
            "align_items": null,
            "align_self": null,
            "border": null,
            "bottom": null,
            "display": null,
            "flex": null,
            "flex_flow": null,
            "grid_area": null,
            "grid_auto_columns": null,
            "grid_auto_flow": null,
            "grid_auto_rows": null,
            "grid_column": null,
            "grid_gap": null,
            "grid_row": null,
            "grid_template_areas": null,
            "grid_template_columns": null,
            "grid_template_rows": null,
            "height": null,
            "justify_content": null,
            "justify_items": null,
            "left": null,
            "margin": null,
            "max_height": null,
            "max_width": null,
            "min_height": null,
            "min_width": null,
            "object_fit": null,
            "object_position": null,
            "order": null,
            "overflow": null,
            "overflow_x": null,
            "overflow_y": null,
            "padding": null,
            "right": null,
            "top": null,
            "visibility": null,
            "width": null
          }
        },
        "3e3aa5f7c4184262b8f940d96e58552e": {
          "model_module": "@jupyter-widgets/controls",
          "model_name": "ProgressStyleModel",
          "model_module_version": "1.5.0",
          "state": {
            "_model_module": "@jupyter-widgets/controls",
            "_model_module_version": "1.5.0",
            "_model_name": "ProgressStyleModel",
            "_view_count": null,
            "_view_module": "@jupyter-widgets/base",
            "_view_module_version": "1.2.0",
            "_view_name": "StyleView",
            "bar_color": null,
            "description_width": ""
          }
        },
        "d1018d0893974b4b9b4e9a805c150b6e": {
          "model_module": "@jupyter-widgets/base",
          "model_name": "LayoutModel",
          "model_module_version": "1.2.0",
          "state": {
            "_model_module": "@jupyter-widgets/base",
            "_model_module_version": "1.2.0",
            "_model_name": "LayoutModel",
            "_view_count": null,
            "_view_module": "@jupyter-widgets/base",
            "_view_module_version": "1.2.0",
            "_view_name": "LayoutView",
            "align_content": null,
            "align_items": null,
            "align_self": null,
            "border": null,
            "bottom": null,
            "display": null,
            "flex": null,
            "flex_flow": null,
            "grid_area": null,
            "grid_auto_columns": null,
            "grid_auto_flow": null,
            "grid_auto_rows": null,
            "grid_column": null,
            "grid_gap": null,
            "grid_row": null,
            "grid_template_areas": null,
            "grid_template_columns": null,
            "grid_template_rows": null,
            "height": null,
            "justify_content": null,
            "justify_items": null,
            "left": null,
            "margin": null,
            "max_height": null,
            "max_width": null,
            "min_height": null,
            "min_width": null,
            "object_fit": null,
            "object_position": null,
            "order": null,
            "overflow": null,
            "overflow_x": null,
            "overflow_y": null,
            "padding": null,
            "right": null,
            "top": null,
            "visibility": null,
            "width": null
          }
        },
        "3f9270ad048a4100bb796453c1b6951c": {
          "model_module": "@jupyter-widgets/controls",
          "model_name": "DescriptionStyleModel",
          "model_module_version": "1.5.0",
          "state": {
            "_model_module": "@jupyter-widgets/controls",
            "_model_module_version": "1.5.0",
            "_model_name": "DescriptionStyleModel",
            "_view_count": null,
            "_view_module": "@jupyter-widgets/base",
            "_view_module_version": "1.2.0",
            "_view_name": "StyleView",
            "description_width": ""
          }
        },
        "6edd0cd9888a453f84f49a46585256ea": {
          "model_module": "@jupyter-widgets/controls",
          "model_name": "HBoxModel",
          "model_module_version": "1.5.0",
          "state": {
            "_dom_classes": [],
            "_model_module": "@jupyter-widgets/controls",
            "_model_module_version": "1.5.0",
            "_model_name": "HBoxModel",
            "_view_count": null,
            "_view_module": "@jupyter-widgets/controls",
            "_view_module_version": "1.5.0",
            "_view_name": "HBoxView",
            "box_style": "",
            "children": [
              "IPY_MODEL_081d3123a6af47b79a95a3441db427a6",
              "IPY_MODEL_64485d82dfb94534a9da4ad23b8415b0",
              "IPY_MODEL_da60943438ee42c58c7bc19baad332a9"
            ],
            "layout": "IPY_MODEL_47a93b91f50c41e8b59122ecc10e6ea7"
          }
        },
        "081d3123a6af47b79a95a3441db427a6": {
          "model_module": "@jupyter-widgets/controls",
          "model_name": "HTMLModel",
          "model_module_version": "1.5.0",
          "state": {
            "_dom_classes": [],
            "_model_module": "@jupyter-widgets/controls",
            "_model_module_version": "1.5.0",
            "_model_name": "HTMLModel",
            "_view_count": null,
            "_view_module": "@jupyter-widgets/controls",
            "_view_module_version": "1.5.0",
            "_view_name": "HTMLView",
            "description": "",
            "description_tooltip": null,
            "layout": "IPY_MODEL_0ecf8187deef42aa83420ee335a3e5c6",
            "placeholder": "​",
            "style": "IPY_MODEL_02fbc41f074d4c6594105552ea5f46b9",
            "value": "Map: 100%"
          }
        },
        "64485d82dfb94534a9da4ad23b8415b0": {
          "model_module": "@jupyter-widgets/controls",
          "model_name": "FloatProgressModel",
          "model_module_version": "1.5.0",
          "state": {
            "_dom_classes": [],
            "_model_module": "@jupyter-widgets/controls",
            "_model_module_version": "1.5.0",
            "_model_name": "FloatProgressModel",
            "_view_count": null,
            "_view_module": "@jupyter-widgets/controls",
            "_view_module_version": "1.5.0",
            "_view_name": "ProgressView",
            "bar_style": "",
            "description": "",
            "description_tooltip": null,
            "layout": "IPY_MODEL_6ebd85a229a340798d602553b52ed933",
            "max": 4689,
            "min": 0,
            "orientation": "horizontal",
            "style": "IPY_MODEL_7b38c4256e0b478b8f03d14c7150d0ff",
            "value": 4689
          }
        },
        "da60943438ee42c58c7bc19baad332a9": {
          "model_module": "@jupyter-widgets/controls",
          "model_name": "HTMLModel",
          "model_module_version": "1.5.0",
          "state": {
            "_dom_classes": [],
            "_model_module": "@jupyter-widgets/controls",
            "_model_module_version": "1.5.0",
            "_model_name": "HTMLModel",
            "_view_count": null,
            "_view_module": "@jupyter-widgets/controls",
            "_view_module_version": "1.5.0",
            "_view_name": "HTMLView",
            "description": "",
            "description_tooltip": null,
            "layout": "IPY_MODEL_7e96495b0fba47b48804f75a53f664b6",
            "placeholder": "​",
            "style": "IPY_MODEL_d46f67d935da4c2bbe7b84bcfcef14d3",
            "value": " 4689/4689 [00:06&lt;00:00, 792.43 examples/s]"
          }
        },
        "47a93b91f50c41e8b59122ecc10e6ea7": {
          "model_module": "@jupyter-widgets/base",
          "model_name": "LayoutModel",
          "model_module_version": "1.2.0",
          "state": {
            "_model_module": "@jupyter-widgets/base",
            "_model_module_version": "1.2.0",
            "_model_name": "LayoutModel",
            "_view_count": null,
            "_view_module": "@jupyter-widgets/base",
            "_view_module_version": "1.2.0",
            "_view_name": "LayoutView",
            "align_content": null,
            "align_items": null,
            "align_self": null,
            "border": null,
            "bottom": null,
            "display": null,
            "flex": null,
            "flex_flow": null,
            "grid_area": null,
            "grid_auto_columns": null,
            "grid_auto_flow": null,
            "grid_auto_rows": null,
            "grid_column": null,
            "grid_gap": null,
            "grid_row": null,
            "grid_template_areas": null,
            "grid_template_columns": null,
            "grid_template_rows": null,
            "height": null,
            "justify_content": null,
            "justify_items": null,
            "left": null,
            "margin": null,
            "max_height": null,
            "max_width": null,
            "min_height": null,
            "min_width": null,
            "object_fit": null,
            "object_position": null,
            "order": null,
            "overflow": null,
            "overflow_x": null,
            "overflow_y": null,
            "padding": null,
            "right": null,
            "top": null,
            "visibility": "hidden",
            "width": null
          }
        },
        "0ecf8187deef42aa83420ee335a3e5c6": {
          "model_module": "@jupyter-widgets/base",
          "model_name": "LayoutModel",
          "model_module_version": "1.2.0",
          "state": {
            "_model_module": "@jupyter-widgets/base",
            "_model_module_version": "1.2.0",
            "_model_name": "LayoutModel",
            "_view_count": null,
            "_view_module": "@jupyter-widgets/base",
            "_view_module_version": "1.2.0",
            "_view_name": "LayoutView",
            "align_content": null,
            "align_items": null,
            "align_self": null,
            "border": null,
            "bottom": null,
            "display": null,
            "flex": null,
            "flex_flow": null,
            "grid_area": null,
            "grid_auto_columns": null,
            "grid_auto_flow": null,
            "grid_auto_rows": null,
            "grid_column": null,
            "grid_gap": null,
            "grid_row": null,
            "grid_template_areas": null,
            "grid_template_columns": null,
            "grid_template_rows": null,
            "height": null,
            "justify_content": null,
            "justify_items": null,
            "left": null,
            "margin": null,
            "max_height": null,
            "max_width": null,
            "min_height": null,
            "min_width": null,
            "object_fit": null,
            "object_position": null,
            "order": null,
            "overflow": null,
            "overflow_x": null,
            "overflow_y": null,
            "padding": null,
            "right": null,
            "top": null,
            "visibility": null,
            "width": null
          }
        },
        "02fbc41f074d4c6594105552ea5f46b9": {
          "model_module": "@jupyter-widgets/controls",
          "model_name": "DescriptionStyleModel",
          "model_module_version": "1.5.0",
          "state": {
            "_model_module": "@jupyter-widgets/controls",
            "_model_module_version": "1.5.0",
            "_model_name": "DescriptionStyleModel",
            "_view_count": null,
            "_view_module": "@jupyter-widgets/base",
            "_view_module_version": "1.2.0",
            "_view_name": "StyleView",
            "description_width": ""
          }
        },
        "6ebd85a229a340798d602553b52ed933": {
          "model_module": "@jupyter-widgets/base",
          "model_name": "LayoutModel",
          "model_module_version": "1.2.0",
          "state": {
            "_model_module": "@jupyter-widgets/base",
            "_model_module_version": "1.2.0",
            "_model_name": "LayoutModel",
            "_view_count": null,
            "_view_module": "@jupyter-widgets/base",
            "_view_module_version": "1.2.0",
            "_view_name": "LayoutView",
            "align_content": null,
            "align_items": null,
            "align_self": null,
            "border": null,
            "bottom": null,
            "display": null,
            "flex": null,
            "flex_flow": null,
            "grid_area": null,
            "grid_auto_columns": null,
            "grid_auto_flow": null,
            "grid_auto_rows": null,
            "grid_column": null,
            "grid_gap": null,
            "grid_row": null,
            "grid_template_areas": null,
            "grid_template_columns": null,
            "grid_template_rows": null,
            "height": null,
            "justify_content": null,
            "justify_items": null,
            "left": null,
            "margin": null,
            "max_height": null,
            "max_width": null,
            "min_height": null,
            "min_width": null,
            "object_fit": null,
            "object_position": null,
            "order": null,
            "overflow": null,
            "overflow_x": null,
            "overflow_y": null,
            "padding": null,
            "right": null,
            "top": null,
            "visibility": null,
            "width": null
          }
        },
        "7b38c4256e0b478b8f03d14c7150d0ff": {
          "model_module": "@jupyter-widgets/controls",
          "model_name": "ProgressStyleModel",
          "model_module_version": "1.5.0",
          "state": {
            "_model_module": "@jupyter-widgets/controls",
            "_model_module_version": "1.5.0",
            "_model_name": "ProgressStyleModel",
            "_view_count": null,
            "_view_module": "@jupyter-widgets/base",
            "_view_module_version": "1.2.0",
            "_view_name": "StyleView",
            "bar_color": null,
            "description_width": ""
          }
        },
        "7e96495b0fba47b48804f75a53f664b6": {
          "model_module": "@jupyter-widgets/base",
          "model_name": "LayoutModel",
          "model_module_version": "1.2.0",
          "state": {
            "_model_module": "@jupyter-widgets/base",
            "_model_module_version": "1.2.0",
            "_model_name": "LayoutModel",
            "_view_count": null,
            "_view_module": "@jupyter-widgets/base",
            "_view_module_version": "1.2.0",
            "_view_name": "LayoutView",
            "align_content": null,
            "align_items": null,
            "align_self": null,
            "border": null,
            "bottom": null,
            "display": null,
            "flex": null,
            "flex_flow": null,
            "grid_area": null,
            "grid_auto_columns": null,
            "grid_auto_flow": null,
            "grid_auto_rows": null,
            "grid_column": null,
            "grid_gap": null,
            "grid_row": null,
            "grid_template_areas": null,
            "grid_template_columns": null,
            "grid_template_rows": null,
            "height": null,
            "justify_content": null,
            "justify_items": null,
            "left": null,
            "margin": null,
            "max_height": null,
            "max_width": null,
            "min_height": null,
            "min_width": null,
            "object_fit": null,
            "object_position": null,
            "order": null,
            "overflow": null,
            "overflow_x": null,
            "overflow_y": null,
            "padding": null,
            "right": null,
            "top": null,
            "visibility": null,
            "width": null
          }
        },
        "d46f67d935da4c2bbe7b84bcfcef14d3": {
          "model_module": "@jupyter-widgets/controls",
          "model_name": "DescriptionStyleModel",
          "model_module_version": "1.5.0",
          "state": {
            "_model_module": "@jupyter-widgets/controls",
            "_model_module_version": "1.5.0",
            "_model_name": "DescriptionStyleModel",
            "_view_count": null,
            "_view_module": "@jupyter-widgets/base",
            "_view_module_version": "1.2.0",
            "_view_name": "StyleView",
            "description_width": ""
          }
        }
      }
    }
  },
  "nbformat": 4,
  "nbformat_minor": 0
}