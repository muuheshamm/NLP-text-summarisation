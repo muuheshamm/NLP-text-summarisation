{
  "cells": [
    {
      "cell_type": "code",
      "execution_count": 1,
      "metadata": {
        "id": "RdoVzMyO4BOc"
      },
      "outputs": [],
      "source": [
        "import nltk\n",
        "from nltk.tokenize import sent_tokenize\n",
        "from sklearn.feature_extraction.text import CountVectorizer\n",
        "from sklearn.feature_extraction.text import TfidfTransformer\n",
        "from sklearn.metrics.pairwise import cosine_similarity\n",
        "import pandas as pd"
      ]
    },
    {
      "cell_type": "code",
      "execution_count": 2,
      "metadata": {
        "execution": {
          "iopub.execute_input": "2023-05-22T22:00:23.235141Z",
          "iopub.status.busy": "2023-05-22T22:00:23.234559Z",
          "iopub.status.idle": "2023-05-22T22:00:29.099646Z",
          "shell.execute_reply": "2023-05-22T22:00:29.098695Z",
          "shell.execute_reply.started": "2023-05-22T22:00:23.235108Z"
        },
        "id": "Iyu-aocmusUQ",
        "trusted": true
      },
      "outputs": [
        {
          "name": "stderr",
          "output_type": "stream",
          "text": [
            "C:\\Users\\ahmad\\AppData\\Local\\Packages\\PythonSoftwareFoundation.Python.3.9_qbz5n2kfra8p0\\LocalCache\\local-packages\\Python39\\site-packages\\tqdm\\auto.py:21: TqdmWarning: IProgress not found. Please update jupyter and ipywidgets. See https://ipywidgets.readthedocs.io/en/stable/user_install.html\n",
            "  from .autonotebook import tqdm as notebook_tqdm\n"
          ]
        }
      ],
      "source": [
        "import torch\n",
        "from transformers import GPT2LMHeadModel, GPT2Tokenizer, GPT2Config, TextDataset, DataCollatorForLanguageModeling\n",
        "from transformers import Trainer, TrainingArguments\n",
        "from datasets import load_dataset\n",
        "import pandas as pd\n",
        "from datasets import Dataset\n",
        "from transformers import T5Tokenizer, T5ForConditionalGeneration, TextDataset, DataCollatorForSeq2Seq, Seq2SeqTrainingArguments, Seq2SeqTrainer\n",
        "import jsonlines\n",
        "import re\n",
        "from nltk.corpus import stopwords\n",
        "from nltk.stem import ISRIStemmer"
      ]
    },
    {
      "cell_type": "code",
      "execution_count": 3,
      "metadata": {
        "execution": {
          "iopub.execute_input": "2023-05-22T22:00:29.102519Z",
          "iopub.status.busy": "2023-05-22T22:00:29.101726Z",
          "iopub.status.idle": "2023-05-22T22:00:29.195547Z",
          "shell.execute_reply": "2023-05-22T22:00:29.194656Z",
          "shell.execute_reply.started": "2023-05-22T22:00:29.102479Z"
        },
        "id": "AVqF9jZBusUQ",
        "trusted": true
      },
      "outputs": [],
      "source": [
        "def read_jsonl_to_dataframe(file_path):\n",
        "    data = []\n",
        "    with jsonlines.open(file_path) as reader:\n",
        "        for line in reader:\n",
        "            data.append(line)\n",
        "    df = pd.DataFrame(data)\n",
        "    return df"
      ]
    },
    {
      "cell_type": "code",
      "execution_count": 4,
      "metadata": {
        "execution": {
          "iopub.execute_input": "2023-05-22T22:00:29.197537Z",
          "iopub.status.busy": "2023-05-22T22:00:29.197182Z",
          "iopub.status.idle": "2023-05-22T22:00:29.205950Z",
          "shell.execute_reply": "2023-05-22T22:00:29.205061Z",
          "shell.execute_reply.started": "2023-05-22T22:00:29.197504Z"
        },
        "id": "b8a0nYtlusUR",
        "trusted": true
      },
      "outputs": [],
      "source": [
        "train_df = read_jsonl_to_dataframe('arabic_train.jsonl')\n",
        "val_df = read_jsonl_to_dataframe('arabic_val.jsonl')\n",
        "test_df = read_jsonl_to_dataframe('arabic_test.jsonl')"
      ]
    },
    {
      "cell_type": "code",
      "execution_count": 5,
      "metadata": {
        "id": "xSUKko6f217h"
      },
      "outputs": [],
      "source": [
        "def summarize_arabic_text(text, summary_length=3):\n",
        "    # Step 1: Tokenize the text into sentences\n",
        "    nltk.download('punkt')\n",
        "    sentences = sent_tokenize(text)\n",
        "\n",
        "    # Step 2: Calculate sentence similarity using TF-IDF\n",
        "    vectorizer = CountVectorizer()\n",
        "    sentence_vectors = vectorizer.fit_transform(sentences)\n",
        "    tfidf_transformer = TfidfTransformer()\n",
        "    tfidf_matrix = tfidf_transformer.fit_transform(sentence_vectors)\n",
        "    similarity_matrix = cosine_similarity(tfidf_matrix)\n",
        "\n",
        "    # Step 3: Select the most important sentences based on similarity\n",
        "    sentence_scores = [(i, sum(similarity_matrix[i])) for i in range(len(sentences))]\n",
        "    sentence_scores = sorted(sentence_scores, key=lambda x: x[1], reverse=True)\n",
        "    selected_sentences = [sentences[i] for (i, score) in sentence_scores[:summary_length]]\n",
        "\n",
        "    # Step 4: Combine the selected sentences to create the summary\n",
        "    summary = ' '.join(selected_sentences)\n",
        "\n",
        "    return summary"
      ]
    },
    {
      "cell_type": "code",
      "execution_count": null,
      "metadata": {
        "id": "A1gEFPyL220D"
      },
      "outputs": [],
      "source": [
        "with jsonlines.open('validation.jsonl', mode='w') as writer:\n",
        "\n",
        "    # Iterate through each row in the dataset and generate summaries\n",
        "    for index, row in val_df.iterrows():\n",
        "        summary = row['summary']\n",
        "        # example_id = row['example_id']\n",
        "        arabic_text = row['text']\n",
        "        predicted = summarize_arabic_text(arabic_text, summary_length=2)\n",
        "\n",
        "        # Create a dictionary for the summary\n",
        "        summary_dict = {\n",
        "\n",
        "            'summary': summary,\n",
        "            'predicted': predicted\n",
        "        }\n",
        "\n",
        "        # Append the summary dictionary to the list\n",
        "        writer.write(summary_dict)\n",
        "\n",
        "        print(f\"{summary}\")"
      ]
    },
    {
      "cell_type": "code",
      "execution_count": 90,
      "metadata": {
        "id": "3mEqtEF062mN"
      },
      "outputs": [],
      "source": [
        "\n",
        "train = read_jsonl_to_dataframe('train.jsonl')\n",
        "validation = read_jsonl_to_dataframe('validation.jsonl')\n",
        "test = read_jsonl_to_dataframe('test.jsonl')"
      ]
    },
    {
      "cell_type": "code",
      "execution_count": 63,
      "metadata": {
        "colab": {
          "base_uri": "https://localhost:8080/",
          "height": 423
        },
        "id": "ABZjIZ5H-GEb",
        "outputId": "d95de47f-1952-4cdf-c52d-cbdda8b412ec"
      },
      "outputs": [
        {
          "data": {
            "text/html": [
              "<div>\n",
              "<style scoped>\n",
              "    .dataframe tbody tr th:only-of-type {\n",
              "        vertical-align: middle;\n",
              "    }\n",
              "\n",
              "    .dataframe tbody tr th {\n",
              "        vertical-align: top;\n",
              "    }\n",
              "\n",
              "    .dataframe thead th {\n",
              "        text-align: right;\n",
              "    }\n",
              "</style>\n",
              "<table border=\"1\" class=\"dataframe\">\n",
              "  <thead>\n",
              "    <tr style=\"text-align: right;\">\n",
              "      <th></th>\n",
              "      <th>summary</th>\n",
              "      <th>predicted</th>\n",
              "    </tr>\n",
              "  </thead>\n",
              "  <tbody>\n",
              "    <tr>\n",
              "      <th>0</th>\n",
              "      <td>بدأت القوات الأوكرانية الانسحاب من شبه جزيرة ا...</td>\n",
              "      <td>تسيطر قوات روسية حاليا على معظم القواعد العسكر...</td>\n",
              "    </tr>\n",
              "    <tr>\n",
              "      <th>1</th>\n",
              "      <td>\"هل سيتم تغيير العبارة الشهيرة للمؤرخ اليوناني...</td>\n",
              "      <td>وأضاف لبي بي سي \"كان من المفترض أن تتم عملية ت...</td>\n",
              "    </tr>\n",
              "    <tr>\n",
              "      <th>2</th>\n",
              "      <td>قالت الشرطة في القطاع الهندي من إقليم كشمير إن...</td>\n",
              "      <td>الجنة الملعونة: دموع الفقراء في كشمير لماذا يل...</td>\n",
              "    </tr>\n",
              "    <tr>\n",
              "      <th>3</th>\n",
              "      <td>في عام 816، تجول راهب يدعى كوكاي، في المنحدرات...</td>\n",
              "      <td>ومنذ أن حط كوكاي، الذي عرف بعد وفاته باسم كوبو...</td>\n",
              "    </tr>\n",
              "    <tr>\n",
              "      <th>4</th>\n",
              "      <td>أكد مصدر في \"الحراك التهامي\" لأبناء محافظة الح...</td>\n",
              "      <td>كما أكد المصدر تمكن مسلحي الحراك من اعتقال مسل...</td>\n",
              "    </tr>\n",
              "    <tr>\n",
              "      <th>...</th>\n",
              "      <td>...</td>\n",
              "      <td>...</td>\n",
              "    </tr>\n",
              "    <tr>\n",
              "      <th>37514</th>\n",
              "      <td>*هذا الفيديو بدون تعليق*</td>\n",
              "      <td>ويقذف البركان بأنهار من الحمم البركانية عبر ال...</td>\n",
              "    </tr>\n",
              "    <tr>\n",
              "      <th>37515</th>\n",
              "      <td>بي بي سي ترند تقرير مي نعمان</td>\n",
              "      <td>لكن القليل من المغردين رأوا ان في هذه الحملة ن...</td>\n",
              "    </tr>\n",
              "    <tr>\n",
              "      <th>37516</th>\n",
              "      <td>تداعيات متواصلة</td>\n",
              "      <td>رمضان آخر يستقبله المسلمون في ظل كورونا للعام ...</td>\n",
              "    </tr>\n",
              "    <tr>\n",
              "      <th>37517</th>\n",
              "      <td>حملة شامتة</td>\n",
              "      <td>ومع وصول ذاك الجدل، الذي تحدث عنه تسيدال إلى ذ...</td>\n",
              "    </tr>\n",
              "    <tr>\n",
              "      <th>37518</th>\n",
              "      <td>*هذا الفيديو بدون تعليق*</td>\n",
              "      <td>النسخة صممتها ورشة فكتوم الفنية بمدريد، وسيتم ...</td>\n",
              "    </tr>\n",
              "  </tbody>\n",
              "</table>\n",
              "<p>37519 rows × 2 columns</p>\n",
              "</div>"
            ],
            "text/plain": [
              "                                                 summary  \\\n",
              "0      بدأت القوات الأوكرانية الانسحاب من شبه جزيرة ا...   \n",
              "1      \"هل سيتم تغيير العبارة الشهيرة للمؤرخ اليوناني...   \n",
              "2      قالت الشرطة في القطاع الهندي من إقليم كشمير إن...   \n",
              "3      في عام 816، تجول راهب يدعى كوكاي، في المنحدرات...   \n",
              "4      أكد مصدر في \"الحراك التهامي\" لأبناء محافظة الح...   \n",
              "...                                                  ...   \n",
              "37514                           *هذا الفيديو بدون تعليق*   \n",
              "37515                       بي بي سي ترند تقرير مي نعمان   \n",
              "37516                                    تداعيات متواصلة   \n",
              "37517                                         حملة شامتة   \n",
              "37518                           *هذا الفيديو بدون تعليق*   \n",
              "\n",
              "                                               predicted  \n",
              "0      تسيطر قوات روسية حاليا على معظم القواعد العسكر...  \n",
              "1      وأضاف لبي بي سي \"كان من المفترض أن تتم عملية ت...  \n",
              "2      الجنة الملعونة: دموع الفقراء في كشمير لماذا يل...  \n",
              "3      ومنذ أن حط كوكاي، الذي عرف بعد وفاته باسم كوبو...  \n",
              "4      كما أكد المصدر تمكن مسلحي الحراك من اعتقال مسل...  \n",
              "...                                                  ...  \n",
              "37514  ويقذف البركان بأنهار من الحمم البركانية عبر ال...  \n",
              "37515  لكن القليل من المغردين رأوا ان في هذه الحملة ن...  \n",
              "37516  رمضان آخر يستقبله المسلمون في ظل كورونا للعام ...  \n",
              "37517  ومع وصول ذاك الجدل، الذي تحدث عنه تسيدال إلى ذ...  \n",
              "37518  النسخة صممتها ورشة فكتوم الفنية بمدريد، وسيتم ...  \n",
              "\n",
              "[37519 rows x 2 columns]"
            ]
          },
          "execution_count": 63,
          "metadata": {},
          "output_type": "execute_result"
        }
      ],
      "source": [
        "train"
      ]
    },
    {
      "cell_type": "code",
      "execution_count": 12,
      "metadata": {
        "colab": {
          "base_uri": "https://localhost:8080/",
          "height": 423
        },
        "id": "vHVKDqYh-GLB",
        "outputId": "40c355ca-f738-4e4c-bb64-cf227e6c38e9"
      },
      "outputs": [
        {
          "data": {
            "text/html": [
              "<div>\n",
              "<style scoped>\n",
              "    .dataframe tbody tr th:only-of-type {\n",
              "        vertical-align: middle;\n",
              "    }\n",
              "\n",
              "    .dataframe tbody tr th {\n",
              "        vertical-align: top;\n",
              "    }\n",
              "\n",
              "    .dataframe thead th {\n",
              "        text-align: right;\n",
              "    }\n",
              "</style>\n",
              "<table border=\"1\" class=\"dataframe\">\n",
              "  <thead>\n",
              "    <tr style=\"text-align: right;\">\n",
              "      <th></th>\n",
              "      <th>summary</th>\n",
              "      <th>predicted</th>\n",
              "    </tr>\n",
              "  </thead>\n",
              "  <tbody>\n",
              "    <tr>\n",
              "      <th>0</th>\n",
              "      <td>تنظر محكمة عسكرية أمريكية في وقت لاحق من اليوم...</td>\n",
              "      <td>وسيواجه حسن عددا من ضحاياه في قاعة المحكمة لأن...</td>\n",
              "    </tr>\n",
              "    <tr>\n",
              "      <th>1</th>\n",
              "      <td>كشفت ألمانيا النقاب عن خطط لإضافة الجزائر والم...</td>\n",
              "      <td>ألمانيا تواجه مصاعب في التعامل مع الأعداد المت...</td>\n",
              "    </tr>\n",
              "    <tr>\n",
              "      <th>2</th>\n",
              "      <td>قال التليفزيون السوري إن قوات الحكومة استعادت ...</td>\n",
              "      <td>وكان الجيش السوري قد استعاد قبل نحو شهرين السي...</td>\n",
              "    </tr>\n",
              "    <tr>\n",
              "      <th>3</th>\n",
              "      <td>توج فريق الارسنال ببطولة كأس انجلترا لكرة القد...</td>\n",
              "      <td>وفاجأ هال سيتي الحضور بمباغتة الارسنال بهدفين ...</td>\n",
              "    </tr>\n",
              "    <tr>\n",
              "      <th>4</th>\n",
              "      <td>يوضع الصراع في العراق غالبا في إطار صراع بين ا...</td>\n",
              "      <td>ويعتقد بأن ما بين 250 ألف إلى 400 ألف من الشبك...</td>\n",
              "    </tr>\n",
              "    <tr>\n",
              "      <th>...</th>\n",
              "      <td>...</td>\n",
              "      <td>...</td>\n",
              "    </tr>\n",
              "    <tr>\n",
              "      <th>4684</th>\n",
              "      <td>مجموعة مختارة من أفضل الصور في القارة الأفريقي...</td>\n",
              "      <td>رجل سوداني يغادر مخبزا وهو محمل بحقيبة مملوءة ...</td>\n",
              "    </tr>\n",
              "    <tr>\n",
              "      <th>4685</th>\n",
              "      <td>استأنف الرئيس الفلسطيني محمود عباس ورئيس الوزر...</td>\n",
              "      <td>كما شددت على ان بلادها \"ستكون شريكا دائما ونشي...</td>\n",
              "    </tr>\n",
              "    <tr>\n",
              "      <th>4686</th>\n",
              "      <td>هناك الكثير مما يجمع كارول نحاس بزوجها كارلوس ...</td>\n",
              "      <td>الدفاع عن كارلوس بعد هروب كارلوس غصن من إقامته...</td>\n",
              "    </tr>\n",
              "    <tr>\n",
              "      <th>4687</th>\n",
              "      <td>افرجت السلطات السودانية عن 57 من معتقلي حركة ا...</td>\n",
              "      <td>دعوة ودعا زعيم الحركة خليل ابراهيم بقية الجماع...</td>\n",
              "    </tr>\n",
              "    <tr>\n",
              "      <th>4688</th>\n",
              "      <td>قالت الحكومة الألمانية إن هناك تراجعا كبيرا في...</td>\n",
              "      <td>وقالت ميركل إن الاتفاق مع تركيا، التي تستضيف 2...</td>\n",
              "    </tr>\n",
              "  </tbody>\n",
              "</table>\n",
              "<p>4689 rows × 2 columns</p>\n",
              "</div>"
            ],
            "text/plain": [
              "                                                summary  \\\n",
              "0     تنظر محكمة عسكرية أمريكية في وقت لاحق من اليوم...   \n",
              "1     كشفت ألمانيا النقاب عن خطط لإضافة الجزائر والم...   \n",
              "2     قال التليفزيون السوري إن قوات الحكومة استعادت ...   \n",
              "3     توج فريق الارسنال ببطولة كأس انجلترا لكرة القد...   \n",
              "4     يوضع الصراع في العراق غالبا في إطار صراع بين ا...   \n",
              "...                                                 ...   \n",
              "4684  مجموعة مختارة من أفضل الصور في القارة الأفريقي...   \n",
              "4685  استأنف الرئيس الفلسطيني محمود عباس ورئيس الوزر...   \n",
              "4686  هناك الكثير مما يجمع كارول نحاس بزوجها كارلوس ...   \n",
              "4687  افرجت السلطات السودانية عن 57 من معتقلي حركة ا...   \n",
              "4688  قالت الحكومة الألمانية إن هناك تراجعا كبيرا في...   \n",
              "\n",
              "                                              predicted  \n",
              "0     وسيواجه حسن عددا من ضحاياه في قاعة المحكمة لأن...  \n",
              "1     ألمانيا تواجه مصاعب في التعامل مع الأعداد المت...  \n",
              "2     وكان الجيش السوري قد استعاد قبل نحو شهرين السي...  \n",
              "3     وفاجأ هال سيتي الحضور بمباغتة الارسنال بهدفين ...  \n",
              "4     ويعتقد بأن ما بين 250 ألف إلى 400 ألف من الشبك...  \n",
              "...                                                 ...  \n",
              "4684  رجل سوداني يغادر مخبزا وهو محمل بحقيبة مملوءة ...  \n",
              "4685  كما شددت على ان بلادها \"ستكون شريكا دائما ونشي...  \n",
              "4686  الدفاع عن كارلوس بعد هروب كارلوس غصن من إقامته...  \n",
              "4687  دعوة ودعا زعيم الحركة خليل ابراهيم بقية الجماع...  \n",
              "4688  وقالت ميركل إن الاتفاق مع تركيا، التي تستضيف 2...  \n",
              "\n",
              "[4689 rows x 2 columns]"
            ]
          },
          "execution_count": 12,
          "metadata": {},
          "output_type": "execute_result"
        }
      ],
      "source": [
        "test"
      ]
    },
    {
      "cell_type": "code",
      "execution_count": 13,
      "metadata": {
        "colab": {
          "base_uri": "https://localhost:8080/",
          "height": 423
        },
        "id": "wy7Ucbh7-NnY",
        "outputId": "b78a8007-cf1b-40be-bbc1-11cb3cf12ef1"
      },
      "outputs": [
        {
          "data": {
            "text/html": [
              "<div>\n",
              "<style scoped>\n",
              "    .dataframe tbody tr th:only-of-type {\n",
              "        vertical-align: middle;\n",
              "    }\n",
              "\n",
              "    .dataframe tbody tr th {\n",
              "        vertical-align: top;\n",
              "    }\n",
              "\n",
              "    .dataframe thead th {\n",
              "        text-align: right;\n",
              "    }\n",
              "</style>\n",
              "<table border=\"1\" class=\"dataframe\">\n",
              "  <thead>\n",
              "    <tr style=\"text-align: right;\">\n",
              "      <th></th>\n",
              "      <th>summary</th>\n",
              "      <th>predicted</th>\n",
              "    </tr>\n",
              "  </thead>\n",
              "  <tbody>\n",
              "    <tr>\n",
              "      <th>0</th>\n",
              "      <td>وقع الحوثيون اتفاقا مع عدد من الاحزاب اليمنية ...</td>\n",
              "      <td>دخل القتال بين القوات الحكومية والمسلحين الحوث...</td>\n",
              "    </tr>\n",
              "    <tr>\n",
              "      <th>1</th>\n",
              "      <td>ناقش معلقون في صحف عربية تطور الأزمة السياسية ...</td>\n",
              "      <td>\"معركة\" الحكومة والاتحاد العام للشغل في سياقٍ ...</td>\n",
              "    </tr>\n",
              "    <tr>\n",
              "      <th>2</th>\n",
              "      <td>اتهمت الشرطة البريطانية رسميا رجلا فرنسيا بحيا...</td>\n",
              "      <td>أعلنت حالة التأهب الأمني بسبب \"تصرفات مشبوهة\" ...</td>\n",
              "    </tr>\n",
              "    <tr>\n",
              "      <th>3</th>\n",
              "      <td>تطلب شابة على إحدى صفحات فيسبوك المغلقة نصيحة ...</td>\n",
              "      <td>وتتفق عليا خيربك سليمان، مؤسسة مجموعة \"صبايا\" ...</td>\n",
              "    </tr>\n",
              "    <tr>\n",
              "      <th>4</th>\n",
              "      <td>فرضت الولايات المتحدة عقوبات على بنك العملة ال...</td>\n",
              "      <td>قطعت كوريا الشمالية الخط الهاتفي الساخن بين ال...</td>\n",
              "    </tr>\n",
              "    <tr>\n",
              "      <th>...</th>\n",
              "      <td>...</td>\n",
              "      <td>...</td>\n",
              "    </tr>\n",
              "    <tr>\n",
              "      <th>4684</th>\n",
              "      <td>في الأول من مارس/ آذار الجاري بدأ نحو 27 ألف ج...</td>\n",
              "      <td>استولى تنظيم الدولة الإسلامية على الموصل في يو...</td>\n",
              "    </tr>\n",
              "    <tr>\n",
              "      <th>4685</th>\n",
              "      <td>تسود حالة من الهدوء الحذر محيط القصر والشوارع ...</td>\n",
              "      <td>وكانت قوات الأمن، التي كانت متمركزة قريبا من ن...</td>\n",
              "    </tr>\n",
              "    <tr>\n",
              "      <th>4686</th>\n",
              "      <td>حذر رئيس حزب العمال الكردستاني السجين، عبدالله...</td>\n",
              "      <td>أدى تقدم مسلحو الدولة الإسلامية تجاه كوباني إل...</td>\n",
              "    </tr>\n",
              "    <tr>\n",
              "      <th>4687</th>\n",
              "      <td>تناول بعض الأنواع الشائعة من مسكنات الألم له ع...</td>\n",
              "      <td>وأشار إلى أن هذه المسكنات يشيع استخدامها من جا...</td>\n",
              "    </tr>\n",
              "    <tr>\n",
              "      <th>4688</th>\n",
              "      <td>قال رئيس بلدية لندن صديق خان إن حريق برج غريفن...</td>\n",
              "      <td>ارتفاع عدد ضحايا \"حريق لندن\" وقال خان إن \"النا...</td>\n",
              "    </tr>\n",
              "  </tbody>\n",
              "</table>\n",
              "<p>4689 rows × 2 columns</p>\n",
              "</div>"
            ],
            "text/plain": [
              "                                                summary  \\\n",
              "0     وقع الحوثيون اتفاقا مع عدد من الاحزاب اليمنية ...   \n",
              "1     ناقش معلقون في صحف عربية تطور الأزمة السياسية ...   \n",
              "2     اتهمت الشرطة البريطانية رسميا رجلا فرنسيا بحيا...   \n",
              "3     تطلب شابة على إحدى صفحات فيسبوك المغلقة نصيحة ...   \n",
              "4     فرضت الولايات المتحدة عقوبات على بنك العملة ال...   \n",
              "...                                                 ...   \n",
              "4684  في الأول من مارس/ آذار الجاري بدأ نحو 27 ألف ج...   \n",
              "4685  تسود حالة من الهدوء الحذر محيط القصر والشوارع ...   \n",
              "4686  حذر رئيس حزب العمال الكردستاني السجين، عبدالله...   \n",
              "4687  تناول بعض الأنواع الشائعة من مسكنات الألم له ع...   \n",
              "4688  قال رئيس بلدية لندن صديق خان إن حريق برج غريفن...   \n",
              "\n",
              "                                              predicted  \n",
              "0     دخل القتال بين القوات الحكومية والمسلحين الحوث...  \n",
              "1     \"معركة\" الحكومة والاتحاد العام للشغل في سياقٍ ...  \n",
              "2     أعلنت حالة التأهب الأمني بسبب \"تصرفات مشبوهة\" ...  \n",
              "3     وتتفق عليا خيربك سليمان، مؤسسة مجموعة \"صبايا\" ...  \n",
              "4     قطعت كوريا الشمالية الخط الهاتفي الساخن بين ال...  \n",
              "...                                                 ...  \n",
              "4684  استولى تنظيم الدولة الإسلامية على الموصل في يو...  \n",
              "4685  وكانت قوات الأمن، التي كانت متمركزة قريبا من ن...  \n",
              "4686  أدى تقدم مسلحو الدولة الإسلامية تجاه كوباني إل...  \n",
              "4687  وأشار إلى أن هذه المسكنات يشيع استخدامها من جا...  \n",
              "4688  ارتفاع عدد ضحايا \"حريق لندن\" وقال خان إن \"النا...  \n",
              "\n",
              "[4689 rows x 2 columns]"
            ]
          },
          "execution_count": 13,
          "metadata": {},
          "output_type": "execute_result"
        }
      ],
      "source": [
        "validation"
      ]
    },
    {
      "cell_type": "code",
      "execution_count": 28,
      "metadata": {
        "id": "yhpKOzppusUS"
      },
      "outputs": [],
      "source": [
        "# def remove_features(dataset):\n",
        "#     features_to_remove = ['example_id']\n",
        "#     for feature in features_to_remove:\n",
        "#         if feature in dataset:\n",
        "#             del dataset[feature]\n",
        "#     return dataset\n"
      ]
    },
    {
      "cell_type": "code",
      "execution_count": 29,
      "metadata": {
        "id": "byqq8mCNusUS"
      },
      "outputs": [],
      "source": [
        "# merged_df1 = remove_features(merged_df1)\n",
        "# merged_df2 = remove_features(merged_df2)\n"
      ]
    },
    {
      "cell_type": "code",
      "execution_count": 14,
      "metadata": {
        "id": "KiMYHH38usUT"
      },
      "outputs": [],
      "source": [
        "def get_max_word_count(dataset):\n",
        "    max_word_count = 0\n",
        "    for row in dataset:\n",
        "        words = row.split()  # Splitting the text into words\n",
        "        word_count = len(words)\n",
        "        if word_count > max_word_count:\n",
        "            max_word_count = word_count\n",
        "    return max_word_count\n",
        "\n"
      ]
    },
    {
      "cell_type": "code",
      "execution_count": 15,
      "metadata": {
        "colab": {
          "base_uri": "https://localhost:8080/"
        },
        "id": "aF7ET7mGusUT",
        "outputId": "a9def049-aee0-47e9-f369-d109cc784576"
      },
      "outputs": [
        {
          "name": "stdout",
          "output_type": "stream",
          "text": [
            "Maximum word count paragraph: 515\n",
            "Maximum word count summary: 236\n"
          ]
        }
      ],
      "source": [
        "max_word_count_p = get_max_word_count(train['predicted'])\n",
        "print(\"Maximum word count paragraph:\", max_word_count_p)\n",
        "max_word_count_s = get_max_word_count(train['summary'])\n",
        "print(\"Maximum word count summary:\", max_word_count_s)"
      ]
    },
    {
      "cell_type": "code",
      "execution_count": 16,
      "metadata": {
        "colab": {
          "base_uri": "https://localhost:8080/"
        },
        "id": "urxRyHtkusUT",
        "outputId": "713bd714-a9be-49ea-95fb-4679f143b562"
      },
      "outputs": [
        {
          "name": "stdout",
          "output_type": "stream",
          "text": [
            "Maximum word count paragraph: 352\n",
            "Maximum word count summary: 47\n"
          ]
        }
      ],
      "source": [
        "max_word_count_p = get_max_word_count(test['predicted'])\n",
        "print(\"Maximum word count paragraph:\", max_word_count_p)\n",
        "max_word_count_s = get_max_word_count(test['summary'])\n",
        "print(\"Maximum word count summary:\", max_word_count_s)"
      ]
    },
    {
      "cell_type": "code",
      "execution_count": 17,
      "metadata": {
        "colab": {
          "base_uri": "https://localhost:8080/"
        },
        "id": "xV2AWAvr-tZ5",
        "outputId": "23cfea19-86d3-40bc-c132-8fe1b9699074"
      },
      "outputs": [
        {
          "name": "stdout",
          "output_type": "stream",
          "text": [
            "Maximum word count paragraph: 253\n",
            "Maximum word count summary: 45\n"
          ]
        }
      ],
      "source": [
        "max_word_count_p = get_max_word_count(validation['predicted'])\n",
        "print(\"Maximum word count paragraph:\", max_word_count_p)\n",
        "max_word_count_s = get_max_word_count(validation['summary'])\n",
        "print(\"Maximum word count summary:\", max_word_count_s)"
      ]
    },
    {
      "cell_type": "code",
      "execution_count": 18,
      "metadata": {
        "execution": {
          "iopub.execute_input": "2023-05-22T22:00:29.296236Z",
          "iopub.status.busy": "2023-05-22T22:00:29.295592Z",
          "iopub.status.idle": "2023-05-22T22:00:37.653167Z",
          "shell.execute_reply": "2023-05-22T22:00:37.651919Z",
          "shell.execute_reply.started": "2023-05-22T22:00:29.296203Z"
        },
        "id": "N9vgwVWlusUT",
        "trusted": true
      },
      "outputs": [],
      "source": [
        "\n",
        "tokenizer = GPT2Tokenizer.from_pretrained(\"aubmindlab/aragpt2-base\")\n",
        "model = GPT2LMHeadModel.from_pretrained(\"aubmindlab/aragpt2-base\")\n",
        "tokenizer.pad_token = tokenizer.eos_token"
      ]
    },
    {
      "cell_type": "code",
      "execution_count": 91,
      "metadata": {
        "execution": {
          "iopub.execute_input": "2023-05-22T22:00:37.655502Z",
          "iopub.status.busy": "2023-05-22T22:00:37.654899Z",
          "iopub.status.idle": "2023-05-22T22:00:37.675646Z",
          "shell.execute_reply": "2023-05-22T22:00:37.674782Z",
          "shell.execute_reply.started": "2023-05-22T22:00:37.655461Z"
        },
        "id": "yCBQ14zlusUT",
        "trusted": true
      },
      "outputs": [],
      "source": [
        "\n",
        "from datasets import Dataset\n",
        "train_dataset = Dataset.from_dict(train)\n",
        "test_dataset = Dataset.from_dict(test)\n",
        "validation_dataset = Dataset.from_dict(validation)"
      ]
    },
    {
      "cell_type": "code",
      "execution_count": 65,
      "metadata": {
        "colab": {
          "base_uri": "https://localhost:8080/"
        },
        "execution": {
          "iopub.execute_input": "2023-05-22T22:00:37.677417Z",
          "iopub.status.busy": "2023-05-22T22:00:37.677087Z",
          "iopub.status.idle": "2023-05-22T22:00:37.684154Z",
          "shell.execute_reply": "2023-05-22T22:00:37.683021Z",
          "shell.execute_reply.started": "2023-05-22T22:00:37.677377Z"
        },
        "id": "dZfSxExEusUT",
        "outputId": "626d3551-a493-4f7f-9166-115ea2f3318e",
        "trusted": true
      },
      "outputs": [
        {
          "data": {
            "text/plain": [
              "Dataset({\n",
              "    features: ['summary', 'predicted'],\n",
              "    num_rows: 37519\n",
              "})"
            ]
          },
          "execution_count": 65,
          "metadata": {},
          "output_type": "execute_result"
        }
      ],
      "source": [
        "train_dataset"
      ]
    },
    {
      "cell_type": "code",
      "execution_count": 21,
      "metadata": {
        "colab": {
          "base_uri": "https://localhost:8080/"
        },
        "execution": {
          "iopub.execute_input": "2023-05-22T22:00:37.686508Z",
          "iopub.status.busy": "2023-05-22T22:00:37.685761Z",
          "iopub.status.idle": "2023-05-22T22:00:37.694050Z",
          "shell.execute_reply": "2023-05-22T22:00:37.693023Z",
          "shell.execute_reply.started": "2023-05-22T22:00:37.686475Z"
        },
        "id": "gdLaWsZhusUU",
        "outputId": "7fad80e6-5a19-404c-bfae-2e59982fe490",
        "trusted": true
      },
      "outputs": [
        {
          "data": {
            "text/plain": [
              "Dataset({\n",
              "    features: ['summary', 'predicted'],\n",
              "    num_rows: 4689\n",
              "})"
            ]
          },
          "execution_count": 21,
          "metadata": {},
          "output_type": "execute_result"
        }
      ],
      "source": [
        "test_dataset"
      ]
    },
    {
      "cell_type": "code",
      "execution_count": 22,
      "metadata": {
        "colab": {
          "base_uri": "https://localhost:8080/"
        },
        "id": "h-NYvITmusUU",
        "outputId": "45993ea6-664c-4e4a-adac-4cb3e55bbd67"
      },
      "outputs": [
        {
          "data": {
            "text/plain": [
              "Dataset({\n",
              "    features: ['summary', 'predicted'],\n",
              "    num_rows: 4689\n",
              "})"
            ]
          },
          "execution_count": 22,
          "metadata": {},
          "output_type": "execute_result"
        }
      ],
      "source": [
        "validation_dataset"
      ]
    },
    {
      "cell_type": "code",
      "execution_count": 88,
      "metadata": {
        "execution": {
          "iopub.execute_input": "2023-05-22T22:00:37.695913Z",
          "iopub.status.busy": "2023-05-22T22:00:37.695393Z",
          "iopub.status.idle": "2023-05-22T22:00:37.703921Z",
          "shell.execute_reply": "2023-05-22T22:00:37.703039Z",
          "shell.execute_reply.started": "2023-05-22T22:00:37.695861Z"
        },
        "id": "JqK2sqPPusUU",
        "trusted": true
      },
      "outputs": [],
      "source": [
        "import numpy as np\n",
        "\n",
        "def tokenize(example):\n",
        "    input_text = example[\"predicted\"]\n",
        "    target_text = example[\"summary\"]\n",
        "\n",
        "    input_tokens = tokenizer(input_text, truncation=True, padding=\"max_length\", max_length=515)\n",
        "    target_tokens = tokenizer(target_text, truncation=True, padding=\"max_length\", max_length=515)\n",
        "\n",
        "    return {\n",
        "        \"input_ids\": np.array(input_tokens[\"input_ids\"]),\n",
        "        \"attention_mask\": np.array(input_tokens[\"attention_mask\"]),\n",
        "        \"labels\": np.array(target_tokens[\"input_ids\"]),\n",
        "    }\n",
        "\n"
      ]
    },
    {
      "cell_type": "code",
      "execution_count": 92,
      "metadata": {
        "colab": {
          "base_uri": "https://localhost:8080/",
          "height": 17,
          "referenced_widgets": [
            "e6f5e7e9849e4914a1a9ab508aaf04e2",
            "3d6ff4ac9ccd4dcbb95171912f10f4a5",
            "9de5b58ee9da4c4a98720bba992f6ff8",
            "19b8417b00fe480eb1b5134332d44461",
            "52be6e604f194ae8b6a53b5a466c5c2f",
            "021a8c09539a4ca39deb5c0b4838ebf9",
            "4ec1ff127a1646bfaad80c9293954fc4",
            "28c7d7762bef4a79bb352df6aee698e4",
            "23d99734d4f04aa395fb921df4870d29",
            "069bd65f15a146579125ef4edb44d42d",
            "878bd1827f984e8dae711c7e5534ed5d",
            "a397278a00814b0eb2aa171006b5d0b5",
            "7527c08f5407443f9e5ef33ddc08e554",
            "18bcdd2135e94d0c923214aa17e18744",
            "8ad6cc23e9c1466ea8fdc17b61a78bc2",
            "d23a2cfd5d5e48beaab6f28c9c0512b7",
            "6550904a500d4e7f938717ecefa9e3a5",
            "f69d796d7dee4cd597f8c4d7c1b1a2d1",
            "abd74d181cbe41bb9e30435c5f234340",
            "3e3aa5f7c4184262b8f940d96e58552e",
            "d1018d0893974b4b9b4e9a805c150b6e",
            "3f9270ad048a4100bb796453c1b6951c",
            "6edd0cd9888a453f84f49a46585256ea",
            "081d3123a6af47b79a95a3441db427a6",
            "64485d82dfb94534a9da4ad23b8415b0",
            "da60943438ee42c58c7bc19baad332a9",
            "47a93b91f50c41e8b59122ecc10e6ea7",
            "0ecf8187deef42aa83420ee335a3e5c6",
            "02fbc41f074d4c6594105552ea5f46b9",
            "6ebd85a229a340798d602553b52ed933",
            "7b38c4256e0b478b8f03d14c7150d0ff",
            "7e96495b0fba47b48804f75a53f664b6",
            "d46f67d935da4c2bbe7b84bcfcef14d3"
          ]
        },
        "execution": {
          "iopub.execute_input": "2023-05-22T22:00:37.705610Z",
          "iopub.status.busy": "2023-05-22T22:00:37.705237Z",
          "iopub.status.idle": "2023-05-22T22:00:45.007300Z",
          "shell.execute_reply": "2023-05-22T22:00:45.006372Z",
          "shell.execute_reply.started": "2023-05-22T22:00:37.705577Z"
        },
        "id": "5JOybIpnusUU",
        "outputId": "6cbea06c-b9fe-47f6-dfa6-d3bff9723eae",
        "trusted": true
      },
      "outputs": [
        {
          "name": "stderr",
          "output_type": "stream",
          "text": []
        }
      ],
      "source": [
        "\n",
        "train_dataset = train_dataset.map(tokenize, batched=True, remove_columns=[\"predicted\", \"summary\"])\n",
        "test_dataset = test_dataset.map(tokenize, batched=True, remove_columns=[\"predicted\", \"summary\"])\n",
        "validation_dataset = validation_dataset.map(tokenize, batched=True, remove_columns=[\"predicted\", \"summary\"])"
      ]
    },
    {
      "cell_type": "code",
      "execution_count": 93,
      "metadata": {
        "colab": {
          "base_uri": "https://localhost:8080/"
        },
        "execution": {
          "iopub.execute_input": "2023-05-22T22:00:45.009573Z",
          "iopub.status.busy": "2023-05-22T22:00:45.008569Z",
          "iopub.status.idle": "2023-05-22T22:00:45.016137Z",
          "shell.execute_reply": "2023-05-22T22:00:45.015267Z",
          "shell.execute_reply.started": "2023-05-22T22:00:45.009537Z"
        },
        "id": "-686543ousUU",
        "outputId": "efe71075-0fb2-4249-b7d1-a9d501ddcbad",
        "trusted": true
      },
      "outputs": [
        {
          "data": {
            "text/plain": [
              "Dataset({\n",
              "    features: ['input_ids', 'attention_mask', 'labels'],\n",
              "    num_rows: 37519\n",
              "})"
            ]
          },
          "execution_count": 93,
          "metadata": {},
          "output_type": "execute_result"
        }
      ],
      "source": [
        "train_dataset"
      ]
    },
    {
      "cell_type": "code",
      "execution_count": 68,
      "metadata": {
        "colab": {
          "base_uri": "https://localhost:8080/"
        },
        "execution": {
          "iopub.execute_input": "2023-05-22T22:00:45.018392Z",
          "iopub.status.busy": "2023-05-22T22:00:45.017284Z",
          "iopub.status.idle": "2023-05-22T22:00:45.028868Z",
          "shell.execute_reply": "2023-05-22T22:00:45.027851Z",
          "shell.execute_reply.started": "2023-05-22T22:00:45.018358Z"
        },
        "id": "Kex8nw5SusUU",
        "outputId": "d467e1c8-d5e4-47eb-ceaf-f5d255e9f1fe",
        "trusted": true
      },
      "outputs": [
        {
          "data": {
            "text/plain": [
              "Dataset({\n",
              "    features: ['input_ids', 'attention_mask', 'labels'],\n",
              "    num_rows: 4689\n",
              "})"
            ]
          },
          "execution_count": 68,
          "metadata": {},
          "output_type": "execute_result"
        }
      ],
      "source": [
        "test_dataset"
      ]
    },
    {
      "cell_type": "code",
      "execution_count": 94,
      "metadata": {
        "colab": {
          "base_uri": "https://localhost:8080/",
          "height": 241
        },
        "execution": {
          "iopub.execute_input": "2023-05-22T22:03:51.378808Z",
          "iopub.status.busy": "2023-05-22T22:03:51.378452Z",
          "iopub.status.idle": "2023-05-22T22:03:51.399745Z",
          "shell.execute_reply": "2023-05-22T22:03:51.397373Z",
          "shell.execute_reply.started": "2023-05-22T22:03:51.378779Z"
        },
        "id": "M-JCfD5ZusUU",
        "outputId": "fff7a012-e350-455a-99cd-0983b82195c0",
        "trusted": true
      },
      "outputs": [
        {
          "name": "stderr",
          "output_type": "stream",
          "text": [
            "  0%|          | 0/46900 [05:05<?, ?it/s]\n"
          ]
        }
      ],
      "source": [
        "\n",
        "from transformers import TrainingArguments\n",
        "from sklearn.metrics import accuracy_score\n",
        "\n",
        "training_args = TrainingArguments(\n",
        "    output_dir=\"./output\",\n",
        "    num_train_epochs=10,\n",
        "    # per_device_train_batch_size=8,\n",
        "    save_steps=10_000,\n",
        "    save_total_limit=2,\n",
        "    evaluation_strategy=\"epoch\",\n",
        "    save_strategy='epoch'\n",
        ")\n",
        "\n",
        "from transformers import Trainer\n",
        "\n",
        "trainer = Trainer(\n",
        "    model=model,\n",
        "    args=training_args,\n",
        "    train_dataset=train_dataset,\n",
        "    eval_dataset=validation_dataset,\n",
        ")\n"
      ]
    },
    {
      "cell_type": "code",
      "execution_count": null,
      "metadata": {
        "execution": {
          "iopub.execute_input": "2023-05-22T22:03:55.293629Z",
          "iopub.status.busy": "2023-05-22T22:03:55.293265Z",
          "iopub.status.idle": "2023-05-22T22:04:16.894998Z",
          "shell.execute_reply": "2023-05-22T22:04:16.889818Z",
          "shell.execute_reply.started": "2023-05-22T22:03:55.293602Z"
        },
        "id": "hO3BXLYGusUV",
        "trusted": true
      },
      "outputs": [],
      "source": [
        "trainer.train()"
      ]
    },
    {
      "cell_type": "code",
      "execution_count": null,
      "metadata": {
        "execution": {
          "iopub.status.busy": "2023-05-22T22:01:50.376215Z",
          "iopub.status.idle": "2023-05-22T22:01:50.376993Z",
          "shell.execute_reply": "2023-05-22T22:01:50.376751Z",
          "shell.execute_reply.started": "2023-05-22T22:01:50.376727Z"
        },
        "id": "hlWLDjvbusUV",
        "trusted": true
      },
      "outputs": [],
      "source": [
        "# input_text = \"انا ادري مين انا يا حبيبي\"\n",
        "input_text=\"artist: ويجز genre: 4\"\n",
        "input_ids = tokenizer.encode(input_text, return_tensors=\"pt\").to(\"cuda\")\n",
        "output = model.generate(input_ids, max_length=128)\n",
        "# print(tokenizer.batch_decode(output[0]))\n",
        "for i, generated_text in enumerate(tokenizer.batch_decode(output)):\n",
        "    print(f\"Generated text {i + 1}:\")\n",
        "    print(generated_text)\n"
      ]
    },
    {
      "cell_type": "code",
      "execution_count": null,
      "metadata": {
        "id": "gVghQIpOusUV"
      },
      "outputs": [],
      "source": [
        "def evaluate_summary(y_test, predicted):\n",
        "    rouge_score = rouge.Rouge()\n",
        "    scores = rouge_score.get_scores(y_test, predicted, avg=True)\n",
        "    score_1 = round(scores['rouge-1']['f'], 2)\n",
        "    score_2 = round(scores['rouge-2']['f'], 2)\n",
        "    score_L = round(scores['rouge-l']['f'], 2)\n",
        "    print(\"rouge1:\", score_1, \"| rouge2:\", score_2, \"| rougeL:\", score_L,\n",
        "          \"--> avg rouge:\", round(np.mean([score_1, score_2, score_L]), 2))"
      ]
    }
  ],
  "metadata": {
    "accelerator": "TPU",
    "colab": {
      "provenance": []
    },
    "kernelspec": {
      "display_name": "Python 3",
      "name": "python3"
    },
    "language_info": {
      "codemirror_mode": {
        "name": "ipython",
        "version": 3
      },
      "file_extension": ".py",
      "mimetype": "text/x-python",
      "name": "python",
      "nbconvert_exporter": "python",
      "pygments_lexer": "ipython3",
      "version": "3.9.13"
    },
    "widgets": {
      "application/vnd.jupyter.widget-state+json": {
        "021a8c09539a4ca39deb5c0b4838ebf9": {
          "model_module": "@jupyter-widgets/base",
          "model_module_version": "1.2.0",
          "model_name": "LayoutModel",
          "state": {
            "_model_module": "@jupyter-widgets/base",
            "_model_module_version": "1.2.0",
            "_model_name": "LayoutModel",
            "_view_count": null,
            "_view_module": "@jupyter-widgets/base",
            "_view_module_version": "1.2.0",
            "_view_name": "LayoutView",
            "align_content": null,
            "align_items": null,
            "align_self": null,
            "border": null,
            "bottom": null,
            "display": null,
            "flex": null,
            "flex_flow": null,
            "grid_area": null,
            "grid_auto_columns": null,
            "grid_auto_flow": null,
            "grid_auto_rows": null,
            "grid_column": null,
            "grid_gap": null,
            "grid_row": null,
            "grid_template_areas": null,
            "grid_template_columns": null,
            "grid_template_rows": null,
            "height": null,
            "justify_content": null,
            "justify_items": null,
            "left": null,
            "margin": null,
            "max_height": null,
            "max_width": null,
            "min_height": null,
            "min_width": null,
            "object_fit": null,
            "object_position": null,
            "order": null,
            "overflow": null,
            "overflow_x": null,
            "overflow_y": null,
            "padding": null,
            "right": null,
            "top": null,
            "visibility": null,
            "width": null
          }
        },
        "02fbc41f074d4c6594105552ea5f46b9": {
          "model_module": "@jupyter-widgets/controls",
          "model_module_version": "1.5.0",
          "model_name": "DescriptionStyleModel",
          "state": {
            "_model_module": "@jupyter-widgets/controls",
            "_model_module_version": "1.5.0",
            "_model_name": "DescriptionStyleModel",
            "_view_count": null,
            "_view_module": "@jupyter-widgets/base",
            "_view_module_version": "1.2.0",
            "_view_name": "StyleView",
            "description_width": ""
          }
        },
        "069bd65f15a146579125ef4edb44d42d": {
          "model_module": "@jupyter-widgets/base",
          "model_module_version": "1.2.0",
          "model_name": "LayoutModel",
          "state": {
            "_model_module": "@jupyter-widgets/base",
            "_model_module_version": "1.2.0",
            "_model_name": "LayoutModel",
            "_view_count": null,
            "_view_module": "@jupyter-widgets/base",
            "_view_module_version": "1.2.0",
            "_view_name": "LayoutView",
            "align_content": null,
            "align_items": null,
            "align_self": null,
            "border": null,
            "bottom": null,
            "display": null,
            "flex": null,
            "flex_flow": null,
            "grid_area": null,
            "grid_auto_columns": null,
            "grid_auto_flow": null,
            "grid_auto_rows": null,
            "grid_column": null,
            "grid_gap": null,
            "grid_row": null,
            "grid_template_areas": null,
            "grid_template_columns": null,
            "grid_template_rows": null,
            "height": null,
            "justify_content": null,
            "justify_items": null,
            "left": null,
            "margin": null,
            "max_height": null,
            "max_width": null,
            "min_height": null,
            "min_width": null,
            "object_fit": null,
            "object_position": null,
            "order": null,
            "overflow": null,
            "overflow_x": null,
            "overflow_y": null,
            "padding": null,
            "right": null,
            "top": null,
            "visibility": null,
            "width": null
          }
        },
        "081d3123a6af47b79a95a3441db427a6": {
          "model_module": "@jupyter-widgets/controls",
          "model_module_version": "1.5.0",
          "model_name": "HTMLModel",
          "state": {
            "_dom_classes": [],
            "_model_module": "@jupyter-widgets/controls",
            "_model_module_version": "1.5.0",
            "_model_name": "HTMLModel",
            "_view_count": null,
            "_view_module": "@jupyter-widgets/controls",
            "_view_module_version": "1.5.0",
            "_view_name": "HTMLView",
            "description": "",
            "description_tooltip": null,
            "layout": "IPY_MODEL_0ecf8187deef42aa83420ee335a3e5c6",
            "placeholder": "​",
            "style": "IPY_MODEL_02fbc41f074d4c6594105552ea5f46b9",
            "value": "Map: 100%"
          }
        },
        "0ecf8187deef42aa83420ee335a3e5c6": {
          "model_module": "@jupyter-widgets/base",
          "model_module_version": "1.2.0",
          "model_name": "LayoutModel",
          "state": {
            "_model_module": "@jupyter-widgets/base",
            "_model_module_version": "1.2.0",
            "_model_name": "LayoutModel",
            "_view_count": null,
            "_view_module": "@jupyter-widgets/base",
            "_view_module_version": "1.2.0",
            "_view_name": "LayoutView",
            "align_content": null,
            "align_items": null,
            "align_self": null,
            "border": null,
            "bottom": null,
            "display": null,
            "flex": null,
            "flex_flow": null,
            "grid_area": null,
            "grid_auto_columns": null,
            "grid_auto_flow": null,
            "grid_auto_rows": null,
            "grid_column": null,
            "grid_gap": null,
            "grid_row": null,
            "grid_template_areas": null,
            "grid_template_columns": null,
            "grid_template_rows": null,
            "height": null,
            "justify_content": null,
            "justify_items": null,
            "left": null,
            "margin": null,
            "max_height": null,
            "max_width": null,
            "min_height": null,
            "min_width": null,
            "object_fit": null,
            "object_position": null,
            "order": null,
            "overflow": null,
            "overflow_x": null,
            "overflow_y": null,
            "padding": null,
            "right": null,
            "top": null,
            "visibility": null,
            "width": null
          }
        },
        "18bcdd2135e94d0c923214aa17e18744": {
          "model_module": "@jupyter-widgets/controls",
          "model_module_version": "1.5.0",
          "model_name": "FloatProgressModel",
          "state": {
            "_dom_classes": [],
            "_model_module": "@jupyter-widgets/controls",
            "_model_module_version": "1.5.0",
            "_model_name": "FloatProgressModel",
            "_view_count": null,
            "_view_module": "@jupyter-widgets/controls",
            "_view_module_version": "1.5.0",
            "_view_name": "ProgressView",
            "bar_style": "",
            "description": "",
            "description_tooltip": null,
            "layout": "IPY_MODEL_abd74d181cbe41bb9e30435c5f234340",
            "max": 4689,
            "min": 0,
            "orientation": "horizontal",
            "style": "IPY_MODEL_3e3aa5f7c4184262b8f940d96e58552e",
            "value": 4689
          }
        },
        "19b8417b00fe480eb1b5134332d44461": {
          "model_module": "@jupyter-widgets/controls",
          "model_module_version": "1.5.0",
          "model_name": "HTMLModel",
          "state": {
            "_dom_classes": [],
            "_model_module": "@jupyter-widgets/controls",
            "_model_module_version": "1.5.0",
            "_model_name": "HTMLModel",
            "_view_count": null,
            "_view_module": "@jupyter-widgets/controls",
            "_view_module_version": "1.5.0",
            "_view_name": "HTMLView",
            "description": "",
            "description_tooltip": null,
            "layout": "IPY_MODEL_069bd65f15a146579125ef4edb44d42d",
            "placeholder": "​",
            "style": "IPY_MODEL_878bd1827f984e8dae711c7e5534ed5d",
            "value": " 37519/37519 [01:13&lt;00:00, 646.43 examples/s]"
          }
        },
        "23d99734d4f04aa395fb921df4870d29": {
          "model_module": "@jupyter-widgets/controls",
          "model_module_version": "1.5.0",
          "model_name": "ProgressStyleModel",
          "state": {
            "_model_module": "@jupyter-widgets/controls",
            "_model_module_version": "1.5.0",
            "_model_name": "ProgressStyleModel",
            "_view_count": null,
            "_view_module": "@jupyter-widgets/base",
            "_view_module_version": "1.2.0",
            "_view_name": "StyleView",
            "bar_color": null,
            "description_width": ""
          }
        },
        "28c7d7762bef4a79bb352df6aee698e4": {
          "model_module": "@jupyter-widgets/base",
          "model_module_version": "1.2.0",
          "model_name": "LayoutModel",
          "state": {
            "_model_module": "@jupyter-widgets/base",
            "_model_module_version": "1.2.0",
            "_model_name": "LayoutModel",
            "_view_count": null,
            "_view_module": "@jupyter-widgets/base",
            "_view_module_version": "1.2.0",
            "_view_name": "LayoutView",
            "align_content": null,
            "align_items": null,
            "align_self": null,
            "border": null,
            "bottom": null,
            "display": null,
            "flex": null,
            "flex_flow": null,
            "grid_area": null,
            "grid_auto_columns": null,
            "grid_auto_flow": null,
            "grid_auto_rows": null,
            "grid_column": null,
            "grid_gap": null,
            "grid_row": null,
            "grid_template_areas": null,
            "grid_template_columns": null,
            "grid_template_rows": null,
            "height": null,
            "justify_content": null,
            "justify_items": null,
            "left": null,
            "margin": null,
            "max_height": null,
            "max_width": null,
            "min_height": null,
            "min_width": null,
            "object_fit": null,
            "object_position": null,
            "order": null,
            "overflow": null,
            "overflow_x": null,
            "overflow_y": null,
            "padding": null,
            "right": null,
            "top": null,
            "visibility": null,
            "width": null
          }
        },
        "3d6ff4ac9ccd4dcbb95171912f10f4a5": {
          "model_module": "@jupyter-widgets/controls",
          "model_module_version": "1.5.0",
          "model_name": "HTMLModel",
          "state": {
            "_dom_classes": [],
            "_model_module": "@jupyter-widgets/controls",
            "_model_module_version": "1.5.0",
            "_model_name": "HTMLModel",
            "_view_count": null,
            "_view_module": "@jupyter-widgets/controls",
            "_view_module_version": "1.5.0",
            "_view_name": "HTMLView",
            "description": "",
            "description_tooltip": null,
            "layout": "IPY_MODEL_021a8c09539a4ca39deb5c0b4838ebf9",
            "placeholder": "​",
            "style": "IPY_MODEL_4ec1ff127a1646bfaad80c9293954fc4",
            "value": "Map: 100%"
          }
        },
        "3e3aa5f7c4184262b8f940d96e58552e": {
          "model_module": "@jupyter-widgets/controls",
          "model_module_version": "1.5.0",
          "model_name": "ProgressStyleModel",
          "state": {
            "_model_module": "@jupyter-widgets/controls",
            "_model_module_version": "1.5.0",
            "_model_name": "ProgressStyleModel",
            "_view_count": null,
            "_view_module": "@jupyter-widgets/base",
            "_view_module_version": "1.2.0",
            "_view_name": "StyleView",
            "bar_color": null,
            "description_width": ""
          }
        },
        "3f9270ad048a4100bb796453c1b6951c": {
          "model_module": "@jupyter-widgets/controls",
          "model_module_version": "1.5.0",
          "model_name": "DescriptionStyleModel",
          "state": {
            "_model_module": "@jupyter-widgets/controls",
            "_model_module_version": "1.5.0",
            "_model_name": "DescriptionStyleModel",
            "_view_count": null,
            "_view_module": "@jupyter-widgets/base",
            "_view_module_version": "1.2.0",
            "_view_name": "StyleView",
            "description_width": ""
          }
        },
        "47a93b91f50c41e8b59122ecc10e6ea7": {
          "model_module": "@jupyter-widgets/base",
          "model_module_version": "1.2.0",
          "model_name": "LayoutModel",
          "state": {
            "_model_module": "@jupyter-widgets/base",
            "_model_module_version": "1.2.0",
            "_model_name": "LayoutModel",
            "_view_count": null,
            "_view_module": "@jupyter-widgets/base",
            "_view_module_version": "1.2.0",
            "_view_name": "LayoutView",
            "align_content": null,
            "align_items": null,
            "align_self": null,
            "border": null,
            "bottom": null,
            "display": null,
            "flex": null,
            "flex_flow": null,
            "grid_area": null,
            "grid_auto_columns": null,
            "grid_auto_flow": null,
            "grid_auto_rows": null,
            "grid_column": null,
            "grid_gap": null,
            "grid_row": null,
            "grid_template_areas": null,
            "grid_template_columns": null,
            "grid_template_rows": null,
            "height": null,
            "justify_content": null,
            "justify_items": null,
            "left": null,
            "margin": null,
            "max_height": null,
            "max_width": null,
            "min_height": null,
            "min_width": null,
            "object_fit": null,
            "object_position": null,
            "order": null,
            "overflow": null,
            "overflow_x": null,
            "overflow_y": null,
            "padding": null,
            "right": null,
            "top": null,
            "visibility": "hidden",
            "width": null
          }
        },
        "4ec1ff127a1646bfaad80c9293954fc4": {
          "model_module": "@jupyter-widgets/controls",
          "model_module_version": "1.5.0",
          "model_name": "DescriptionStyleModel",
          "state": {
            "_model_module": "@jupyter-widgets/controls",
            "_model_module_version": "1.5.0",
            "_model_name": "DescriptionStyleModel",
            "_view_count": null,
            "_view_module": "@jupyter-widgets/base",
            "_view_module_version": "1.2.0",
            "_view_name": "StyleView",
            "description_width": ""
          }
        },
        "52be6e604f194ae8b6a53b5a466c5c2f": {
          "model_module": "@jupyter-widgets/base",
          "model_module_version": "1.2.0",
          "model_name": "LayoutModel",
          "state": {
            "_model_module": "@jupyter-widgets/base",
            "_model_module_version": "1.2.0",
            "_model_name": "LayoutModel",
            "_view_count": null,
            "_view_module": "@jupyter-widgets/base",
            "_view_module_version": "1.2.0",
            "_view_name": "LayoutView",
            "align_content": null,
            "align_items": null,
            "align_self": null,
            "border": null,
            "bottom": null,
            "display": null,
            "flex": null,
            "flex_flow": null,
            "grid_area": null,
            "grid_auto_columns": null,
            "grid_auto_flow": null,
            "grid_auto_rows": null,
            "grid_column": null,
            "grid_gap": null,
            "grid_row": null,
            "grid_template_areas": null,
            "grid_template_columns": null,
            "grid_template_rows": null,
            "height": null,
            "justify_content": null,
            "justify_items": null,
            "left": null,
            "margin": null,
            "max_height": null,
            "max_width": null,
            "min_height": null,
            "min_width": null,
            "object_fit": null,
            "object_position": null,
            "order": null,
            "overflow": null,
            "overflow_x": null,
            "overflow_y": null,
            "padding": null,
            "right": null,
            "top": null,
            "visibility": "hidden",
            "width": null
          }
        },
        "64485d82dfb94534a9da4ad23b8415b0": {
          "model_module": "@jupyter-widgets/controls",
          "model_module_version": "1.5.0",
          "model_name": "FloatProgressModel",
          "state": {
            "_dom_classes": [],
            "_model_module": "@jupyter-widgets/controls",
            "_model_module_version": "1.5.0",
            "_model_name": "FloatProgressModel",
            "_view_count": null,
            "_view_module": "@jupyter-widgets/controls",
            "_view_module_version": "1.5.0",
            "_view_name": "ProgressView",
            "bar_style": "",
            "description": "",
            "description_tooltip": null,
            "layout": "IPY_MODEL_6ebd85a229a340798d602553b52ed933",
            "max": 4689,
            "min": 0,
            "orientation": "horizontal",
            "style": "IPY_MODEL_7b38c4256e0b478b8f03d14c7150d0ff",
            "value": 4689
          }
        },
        "6550904a500d4e7f938717ecefa9e3a5": {
          "model_module": "@jupyter-widgets/base",
          "model_module_version": "1.2.0",
          "model_name": "LayoutModel",
          "state": {
            "_model_module": "@jupyter-widgets/base",
            "_model_module_version": "1.2.0",
            "_model_name": "LayoutModel",
            "_view_count": null,
            "_view_module": "@jupyter-widgets/base",
            "_view_module_version": "1.2.0",
            "_view_name": "LayoutView",
            "align_content": null,
            "align_items": null,
            "align_self": null,
            "border": null,
            "bottom": null,
            "display": null,
            "flex": null,
            "flex_flow": null,
            "grid_area": null,
            "grid_auto_columns": null,
            "grid_auto_flow": null,
            "grid_auto_rows": null,
            "grid_column": null,
            "grid_gap": null,
            "grid_row": null,
            "grid_template_areas": null,
            "grid_template_columns": null,
            "grid_template_rows": null,
            "height": null,
            "justify_content": null,
            "justify_items": null,
            "left": null,
            "margin": null,
            "max_height": null,
            "max_width": null,
            "min_height": null,
            "min_width": null,
            "object_fit": null,
            "object_position": null,
            "order": null,
            "overflow": null,
            "overflow_x": null,
            "overflow_y": null,
            "padding": null,
            "right": null,
            "top": null,
            "visibility": null,
            "width": null
          }
        },
        "6ebd85a229a340798d602553b52ed933": {
          "model_module": "@jupyter-widgets/base",
          "model_module_version": "1.2.0",
          "model_name": "LayoutModel",
          "state": {
            "_model_module": "@jupyter-widgets/base",
            "_model_module_version": "1.2.0",
            "_model_name": "LayoutModel",
            "_view_count": null,
            "_view_module": "@jupyter-widgets/base",
            "_view_module_version": "1.2.0",
            "_view_name": "LayoutView",
            "align_content": null,
            "align_items": null,
            "align_self": null,
            "border": null,
            "bottom": null,
            "display": null,
            "flex": null,
            "flex_flow": null,
            "grid_area": null,
            "grid_auto_columns": null,
            "grid_auto_flow": null,
            "grid_auto_rows": null,
            "grid_column": null,
            "grid_gap": null,
            "grid_row": null,
            "grid_template_areas": null,
            "grid_template_columns": null,
            "grid_template_rows": null,
            "height": null,
            "justify_content": null,
            "justify_items": null,
            "left": null,
            "margin": null,
            "max_height": null,
            "max_width": null,
            "min_height": null,
            "min_width": null,
            "object_fit": null,
            "object_position": null,
            "order": null,
            "overflow": null,
            "overflow_x": null,
            "overflow_y": null,
            "padding": null,
            "right": null,
            "top": null,
            "visibility": null,
            "width": null
          }
        },
        "6edd0cd9888a453f84f49a46585256ea": {
          "model_module": "@jupyter-widgets/controls",
          "model_module_version": "1.5.0",
          "model_name": "HBoxModel",
          "state": {
            "_dom_classes": [],
            "_model_module": "@jupyter-widgets/controls",
            "_model_module_version": "1.5.0",
            "_model_name": "HBoxModel",
            "_view_count": null,
            "_view_module": "@jupyter-widgets/controls",
            "_view_module_version": "1.5.0",
            "_view_name": "HBoxView",
            "box_style": "",
            "children": [
              "IPY_MODEL_081d3123a6af47b79a95a3441db427a6",
              "IPY_MODEL_64485d82dfb94534a9da4ad23b8415b0",
              "IPY_MODEL_da60943438ee42c58c7bc19baad332a9"
            ],
            "layout": "IPY_MODEL_47a93b91f50c41e8b59122ecc10e6ea7"
          }
        },
        "7527c08f5407443f9e5ef33ddc08e554": {
          "model_module": "@jupyter-widgets/controls",
          "model_module_version": "1.5.0",
          "model_name": "HTMLModel",
          "state": {
            "_dom_classes": [],
            "_model_module": "@jupyter-widgets/controls",
            "_model_module_version": "1.5.0",
            "_model_name": "HTMLModel",
            "_view_count": null,
            "_view_module": "@jupyter-widgets/controls",
            "_view_module_version": "1.5.0",
            "_view_name": "HTMLView",
            "description": "",
            "description_tooltip": null,
            "layout": "IPY_MODEL_6550904a500d4e7f938717ecefa9e3a5",
            "placeholder": "​",
            "style": "IPY_MODEL_f69d796d7dee4cd597f8c4d7c1b1a2d1",
            "value": "Map: 100%"
          }
        },
        "7b38c4256e0b478b8f03d14c7150d0ff": {
          "model_module": "@jupyter-widgets/controls",
          "model_module_version": "1.5.0",
          "model_name": "ProgressStyleModel",
          "state": {
            "_model_module": "@jupyter-widgets/controls",
            "_model_module_version": "1.5.0",
            "_model_name": "ProgressStyleModel",
            "_view_count": null,
            "_view_module": "@jupyter-widgets/base",
            "_view_module_version": "1.2.0",
            "_view_name": "StyleView",
            "bar_color": null,
            "description_width": ""
          }
        },
        "7e96495b0fba47b48804f75a53f664b6": {
          "model_module": "@jupyter-widgets/base",
          "model_module_version": "1.2.0",
          "model_name": "LayoutModel",
          "state": {
            "_model_module": "@jupyter-widgets/base",
            "_model_module_version": "1.2.0",
            "_model_name": "LayoutModel",
            "_view_count": null,
            "_view_module": "@jupyter-widgets/base",
            "_view_module_version": "1.2.0",
            "_view_name": "LayoutView",
            "align_content": null,
            "align_items": null,
            "align_self": null,
            "border": null,
            "bottom": null,
            "display": null,
            "flex": null,
            "flex_flow": null,
            "grid_area": null,
            "grid_auto_columns": null,
            "grid_auto_flow": null,
            "grid_auto_rows": null,
            "grid_column": null,
            "grid_gap": null,
            "grid_row": null,
            "grid_template_areas": null,
            "grid_template_columns": null,
            "grid_template_rows": null,
            "height": null,
            "justify_content": null,
            "justify_items": null,
            "left": null,
            "margin": null,
            "max_height": null,
            "max_width": null,
            "min_height": null,
            "min_width": null,
            "object_fit": null,
            "object_position": null,
            "order": null,
            "overflow": null,
            "overflow_x": null,
            "overflow_y": null,
            "padding": null,
            "right": null,
            "top": null,
            "visibility": null,
            "width": null
          }
        },
        "878bd1827f984e8dae711c7e5534ed5d": {
          "model_module": "@jupyter-widgets/controls",
          "model_module_version": "1.5.0",
          "model_name": "DescriptionStyleModel",
          "state": {
            "_model_module": "@jupyter-widgets/controls",
            "_model_module_version": "1.5.0",
            "_model_name": "DescriptionStyleModel",
            "_view_count": null,
            "_view_module": "@jupyter-widgets/base",
            "_view_module_version": "1.2.0",
            "_view_name": "StyleView",
            "description_width": ""
          }
        },
        "8ad6cc23e9c1466ea8fdc17b61a78bc2": {
          "model_module": "@jupyter-widgets/controls",
          "model_module_version": "1.5.0",
          "model_name": "HTMLModel",
          "state": {
            "_dom_classes": [],
            "_model_module": "@jupyter-widgets/controls",
            "_model_module_version": "1.5.0",
            "_model_name": "HTMLModel",
            "_view_count": null,
            "_view_module": "@jupyter-widgets/controls",
            "_view_module_version": "1.5.0",
            "_view_name": "HTMLView",
            "description": "",
            "description_tooltip": null,
            "layout": "IPY_MODEL_d1018d0893974b4b9b4e9a805c150b6e",
            "placeholder": "​",
            "style": "IPY_MODEL_3f9270ad048a4100bb796453c1b6951c",
            "value": " 4689/4689 [00:05&lt;00:00, 889.56 examples/s]"
          }
        },
        "9de5b58ee9da4c4a98720bba992f6ff8": {
          "model_module": "@jupyter-widgets/controls",
          "model_module_version": "1.5.0",
          "model_name": "FloatProgressModel",
          "state": {
            "_dom_classes": [],
            "_model_module": "@jupyter-widgets/controls",
            "_model_module_version": "1.5.0",
            "_model_name": "FloatProgressModel",
            "_view_count": null,
            "_view_module": "@jupyter-widgets/controls",
            "_view_module_version": "1.5.0",
            "_view_name": "ProgressView",
            "bar_style": "",
            "description": "",
            "description_tooltip": null,
            "layout": "IPY_MODEL_28c7d7762bef4a79bb352df6aee698e4",
            "max": 37519,
            "min": 0,
            "orientation": "horizontal",
            "style": "IPY_MODEL_23d99734d4f04aa395fb921df4870d29",
            "value": 37519
          }
        },
        "a397278a00814b0eb2aa171006b5d0b5": {
          "model_module": "@jupyter-widgets/controls",
          "model_module_version": "1.5.0",
          "model_name": "HBoxModel",
          "state": {
            "_dom_classes": [],
            "_model_module": "@jupyter-widgets/controls",
            "_model_module_version": "1.5.0",
            "_model_name": "HBoxModel",
            "_view_count": null,
            "_view_module": "@jupyter-widgets/controls",
            "_view_module_version": "1.5.0",
            "_view_name": "HBoxView",
            "box_style": "",
            "children": [
              "IPY_MODEL_7527c08f5407443f9e5ef33ddc08e554",
              "IPY_MODEL_18bcdd2135e94d0c923214aa17e18744",
              "IPY_MODEL_8ad6cc23e9c1466ea8fdc17b61a78bc2"
            ],
            "layout": "IPY_MODEL_d23a2cfd5d5e48beaab6f28c9c0512b7"
          }
        },
        "abd74d181cbe41bb9e30435c5f234340": {
          "model_module": "@jupyter-widgets/base",
          "model_module_version": "1.2.0",
          "model_name": "LayoutModel",
          "state": {
            "_model_module": "@jupyter-widgets/base",
            "_model_module_version": "1.2.0",
            "_model_name": "LayoutModel",
            "_view_count": null,
            "_view_module": "@jupyter-widgets/base",
            "_view_module_version": "1.2.0",
            "_view_name": "LayoutView",
            "align_content": null,
            "align_items": null,
            "align_self": null,
            "border": null,
            "bottom": null,
            "display": null,
            "flex": null,
            "flex_flow": null,
            "grid_area": null,
            "grid_auto_columns": null,
            "grid_auto_flow": null,
            "grid_auto_rows": null,
            "grid_column": null,
            "grid_gap": null,
            "grid_row": null,
            "grid_template_areas": null,
            "grid_template_columns": null,
            "grid_template_rows": null,
            "height": null,
            "justify_content": null,
            "justify_items": null,
            "left": null,
            "margin": null,
            "max_height": null,
            "max_width": null,
            "min_height": null,
            "min_width": null,
            "object_fit": null,
            "object_position": null,
            "order": null,
            "overflow": null,
            "overflow_x": null,
            "overflow_y": null,
            "padding": null,
            "right": null,
            "top": null,
            "visibility": null,
            "width": null
          }
        },
        "d1018d0893974b4b9b4e9a805c150b6e": {
          "model_module": "@jupyter-widgets/base",
          "model_module_version": "1.2.0",
          "model_name": "LayoutModel",
          "state": {
            "_model_module": "@jupyter-widgets/base",
            "_model_module_version": "1.2.0",
            "_model_name": "LayoutModel",
            "_view_count": null,
            "_view_module": "@jupyter-widgets/base",
            "_view_module_version": "1.2.0",
            "_view_name": "LayoutView",
            "align_content": null,
            "align_items": null,
            "align_self": null,
            "border": null,
            "bottom": null,
            "display": null,
            "flex": null,
            "flex_flow": null,
            "grid_area": null,
            "grid_auto_columns": null,
            "grid_auto_flow": null,
            "grid_auto_rows": null,
            "grid_column": null,
            "grid_gap": null,
            "grid_row": null,
            "grid_template_areas": null,
            "grid_template_columns": null,
            "grid_template_rows": null,
            "height": null,
            "justify_content": null,
            "justify_items": null,
            "left": null,
            "margin": null,
            "max_height": null,
            "max_width": null,
            "min_height": null,
            "min_width": null,
            "object_fit": null,
            "object_position": null,
            "order": null,
            "overflow": null,
            "overflow_x": null,
            "overflow_y": null,
            "padding": null,
            "right": null,
            "top": null,
            "visibility": null,
            "width": null
          }
        },
        "d23a2cfd5d5e48beaab6f28c9c0512b7": {
          "model_module": "@jupyter-widgets/base",
          "model_module_version": "1.2.0",
          "model_name": "LayoutModel",
          "state": {
            "_model_module": "@jupyter-widgets/base",
            "_model_module_version": "1.2.0",
            "_model_name": "LayoutModel",
            "_view_count": null,
            "_view_module": "@jupyter-widgets/base",
            "_view_module_version": "1.2.0",
            "_view_name": "LayoutView",
            "align_content": null,
            "align_items": null,
            "align_self": null,
            "border": null,
            "bottom": null,
            "display": null,
            "flex": null,
            "flex_flow": null,
            "grid_area": null,
            "grid_auto_columns": null,
            "grid_auto_flow": null,
            "grid_auto_rows": null,
            "grid_column": null,
            "grid_gap": null,
            "grid_row": null,
            "grid_template_areas": null,
            "grid_template_columns": null,
            "grid_template_rows": null,
            "height": null,
            "justify_content": null,
            "justify_items": null,
            "left": null,
            "margin": null,
            "max_height": null,
            "max_width": null,
            "min_height": null,
            "min_width": null,
            "object_fit": null,
            "object_position": null,
            "order": null,
            "overflow": null,
            "overflow_x": null,
            "overflow_y": null,
            "padding": null,
            "right": null,
            "top": null,
            "visibility": "hidden",
            "width": null
          }
        },
        "d46f67d935da4c2bbe7b84bcfcef14d3": {
          "model_module": "@jupyter-widgets/controls",
          "model_module_version": "1.5.0",
          "model_name": "DescriptionStyleModel",
          "state": {
            "_model_module": "@jupyter-widgets/controls",
            "_model_module_version": "1.5.0",
            "_model_name": "DescriptionStyleModel",
            "_view_count": null,
            "_view_module": "@jupyter-widgets/base",
            "_view_module_version": "1.2.0",
            "_view_name": "StyleView",
            "description_width": ""
          }
        },
        "da60943438ee42c58c7bc19baad332a9": {
          "model_module": "@jupyter-widgets/controls",
          "model_module_version": "1.5.0",
          "model_name": "HTMLModel",
          "state": {
            "_dom_classes": [],
            "_model_module": "@jupyter-widgets/controls",
            "_model_module_version": "1.5.0",
            "_model_name": "HTMLModel",
            "_view_count": null,
            "_view_module": "@jupyter-widgets/controls",
            "_view_module_version": "1.5.0",
            "_view_name": "HTMLView",
            "description": "",
            "description_tooltip": null,
            "layout": "IPY_MODEL_7e96495b0fba47b48804f75a53f664b6",
            "placeholder": "​",
            "style": "IPY_MODEL_d46f67d935da4c2bbe7b84bcfcef14d3",
            "value": " 4689/4689 [00:06&lt;00:00, 792.43 examples/s]"
          }
        },
        "e6f5e7e9849e4914a1a9ab508aaf04e2": {
          "model_module": "@jupyter-widgets/controls",
          "model_module_version": "1.5.0",
          "model_name": "HBoxModel",
          "state": {
            "_dom_classes": [],
            "_model_module": "@jupyter-widgets/controls",
            "_model_module_version": "1.5.0",
            "_model_name": "HBoxModel",
            "_view_count": null,
            "_view_module": "@jupyter-widgets/controls",
            "_view_module_version": "1.5.0",
            "_view_name": "HBoxView",
            "box_style": "",
            "children": [
              "IPY_MODEL_3d6ff4ac9ccd4dcbb95171912f10f4a5",
              "IPY_MODEL_9de5b58ee9da4c4a98720bba992f6ff8",
              "IPY_MODEL_19b8417b00fe480eb1b5134332d44461"
            ],
            "layout": "IPY_MODEL_52be6e604f194ae8b6a53b5a466c5c2f"
          }
        },
        "f69d796d7dee4cd597f8c4d7c1b1a2d1": {
          "model_module": "@jupyter-widgets/controls",
          "model_module_version": "1.5.0",
          "model_name": "DescriptionStyleModel",
          "state": {
            "_model_module": "@jupyter-widgets/controls",
            "_model_module_version": "1.5.0",
            "_model_name": "DescriptionStyleModel",
            "_view_count": null,
            "_view_module": "@jupyter-widgets/base",
            "_view_module_version": "1.2.0",
            "_view_name": "StyleView",
            "description_width": ""
          }
        }
      }
    }
  },
  "nbformat": 4,
  "nbformat_minor": 0
}
